{
  "nbformat": 4,
  "nbformat_minor": 0,
  "metadata": {
    "colab": {
      "name": "Analysis",
      "provenance": [],
      "collapsed_sections": [],
      "include_colab_link": true
    },
    "kernelspec": {
      "name": "python3",
      "display_name": "Python 3"
    },
    "accelerator": "GPU"
  },
  "cells": [
    {
      "cell_type": "markdown",
      "metadata": {
        "id": "view-in-github",
        "colab_type": "text"
      },
      "source": [
        "<a href=\"https://colab.research.google.com/github/DhruvaBansal00/ConfidentMT/blob/master/Analysis.ipynb\" target=\"_parent\"><img src=\"https://colab.research.google.com/assets/colab-badge.svg\" alt=\"Open In Colab\"/></a>"
      ]
    },
    {
      "cell_type": "markdown",
      "metadata": {
        "id": "LWrUgXp4maDc",
        "colab_type": "text"
      },
      "source": [
        "Analysis pipeline summary: Compute SacreBleu score. This also gives us all the reference and translation sentences. Parse the file created by sacreBleu to get 3 files: 1 file with references, 1 with the corresponding translations and 1 with the avg, min, median, max logprob scores of all the tokens for each sentence. The we run fairseq-score to get BLEU score for each sentence. "
      ]
    },
    {
      "cell_type": "code",
      "metadata": {
        "id": "XgiYJyEGfLG2",
        "colab_type": "code",
        "outputId": "53a19145-f258-4cd8-8f44-aa2d061f4b2f",
        "colab": {
          "base_uri": "https://localhost:8080/",
          "height": 476
        }
      },
      "source": [
        "pip install fairseq sacrebleu sentencepiece"
      ],
      "execution_count": 0,
      "outputs": [
        {
          "output_type": "stream",
          "text": [
            "Collecting fairseq\n",
            "\u001b[?25l  Downloading https://files.pythonhosted.org/packages/67/bf/de299e082e7af010d35162cb9a185dc6c17db71624590f2f379aeb2519ff/fairseq-0.9.0.tar.gz (306kB)\n",
            "\u001b[K     |████████████████████████████████| 307kB 32.6MB/s \n",
            "\u001b[?25hCollecting sacrebleu\n",
            "\u001b[?25l  Downloading https://files.pythonhosted.org/packages/6e/9d/9846507837ca50ae20917f59d83b79246b8313bd19d4f5bf575ecb98132b/sacrebleu-1.4.9-py3-none-any.whl (60kB)\n",
            "\u001b[K     |████████████████████████████████| 61kB 9.2MB/s \n",
            "\u001b[?25hCollecting sentencepiece\n",
            "\u001b[?25l  Downloading https://files.pythonhosted.org/packages/3b/88/49e772d686088e1278766ad68a463513642a2a877487decbd691dec02955/sentencepiece-0.1.90-cp36-cp36m-manylinux1_x86_64.whl (1.1MB)\n",
            "\u001b[K     |████████████████████████████████| 1.1MB 48.6MB/s \n",
            "\u001b[?25hRequirement already satisfied: cffi in /usr/local/lib/python3.6/dist-packages (from fairseq) (1.14.0)\n",
            "Requirement already satisfied: cython in /usr/local/lib/python3.6/dist-packages (from fairseq) (0.29.17)\n",
            "Requirement already satisfied: numpy in /usr/local/lib/python3.6/dist-packages (from fairseq) (1.18.4)\n",
            "Requirement already satisfied: regex in /usr/local/lib/python3.6/dist-packages (from fairseq) (2019.12.20)\n",
            "Requirement already satisfied: torch in /usr/local/lib/python3.6/dist-packages (from fairseq) (1.5.0+cu101)\n",
            "Requirement already satisfied: tqdm in /usr/local/lib/python3.6/dist-packages (from fairseq) (4.41.1)\n",
            "Requirement already satisfied: typing in /usr/local/lib/python3.6/dist-packages (from sacrebleu) (3.6.6)\n",
            "Collecting portalocker\n",
            "  Downloading https://files.pythonhosted.org/packages/53/84/7b3146ec6378d28abc73ab484f09f47dfa008ad6f03f33d90a369f880e25/portalocker-1.7.0-py2.py3-none-any.whl\n",
            "Requirement already satisfied: pycparser in /usr/local/lib/python3.6/dist-packages (from cffi->fairseq) (2.20)\n",
            "Requirement already satisfied: future in /usr/local/lib/python3.6/dist-packages (from torch->fairseq) (0.16.0)\n",
            "Building wheels for collected packages: fairseq\n",
            "  Building wheel for fairseq (setup.py) ... \u001b[?25l\u001b[?25hdone\n",
            "  Created wheel for fairseq: filename=fairseq-0.9.0-cp36-cp36m-linux_x86_64.whl size=2035364 sha256=0c75a6ae7f3165bc58be516e9e6f29b2852c4f3b8004df0654882173383730fb\n",
            "  Stored in directory: /root/.cache/pip/wheels/37/3e/1b/0fa30695dcba41e4b0088067fa40f3328d1e8ee78c22cd4766\n",
            "Successfully built fairseq\n",
            "Installing collected packages: portalocker, sacrebleu, fairseq, sentencepiece\n",
            "Successfully installed fairseq-0.9.0 portalocker-1.7.0 sacrebleu-1.4.9 sentencepiece-0.1.90\n"
          ],
          "name": "stdout"
        }
      ]
    },
    {
      "cell_type": "code",
      "metadata": {
        "id": "uj-etpbRfLRa",
        "colab_type": "code",
        "outputId": "9e919c68-dd45-4f82-d5e6-810a0b9b1f50",
        "colab": {
          "base_uri": "https://localhost:8080/",
          "height": 122
        }
      },
      "source": [
        "from google.colab import drive\n",
        "drive.mount('/content/drive')"
      ],
      "execution_count": 0,
      "outputs": [
        {
          "output_type": "stream",
          "text": [
            "Go to this URL in a browser: https://accounts.google.com/o/oauth2/auth?client_id=947318989803-6bn6qk8qdgf4n4g3pfee6491hc0brc4i.apps.googleusercontent.com&redirect_uri=urn%3aietf%3awg%3aoauth%3a2.0%3aoob&response_type=code&scope=email%20https%3a%2f%2fwww.googleapis.com%2fauth%2fdocs.test%20https%3a%2f%2fwww.googleapis.com%2fauth%2fdrive%20https%3a%2f%2fwww.googleapis.com%2fauth%2fdrive.photos.readonly%20https%3a%2f%2fwww.googleapis.com%2fauth%2fpeopleapi.readonly\n",
            "\n",
            "Enter your authorization code:\n",
            "··········\n",
            "Mounted at /content/drive\n"
          ],
          "name": "stdout"
        }
      ]
    },
    {
      "cell_type": "code",
      "metadata": {
        "id": "Q07PQ5uafQfM",
        "colab_type": "code",
        "outputId": "6652c1a4-82ce-4f89-ed1a-87e100721e91",
        "colab": {
          "base_uri": "https://localhost:8080/",
          "height": 255
        }
      },
      "source": [
        "!ls\n",
        "%cd drive/My Drive/ConfidentMachineTranslation/flores\n",
        "!ls\n",
        "!pwd"
      ],
      "execution_count": 0,
      "outputs": [
        {
          "output_type": "stream",
          "text": [
            "drive  sample_data\n",
            "/content/drive/My Drive/ConfidentMachineTranslation/flores\n",
            "'=0.5.0'\t\t\t Ensembling\n",
            " analysis\t\t\t FLORES.ipynb\n",
            " Analysis\t\t\t LanguageAnalysis.ipynb\n",
            " backward_models\t\t language_models\n",
            " BoostedBinaryClassifers.ipynb\t LM_Thresholding.ipynb\n",
            " checkpoints\t\t\t NCD_Analysis.ipynb\n",
            " ClassificationDataset\t\t NNClassification.ipynb\n",
            " configs\t\t\t noisychannel\n",
            " data\t\t\t\t NoisyChannel.ipynb\n",
            " data-bin\t\t\t Resources\n",
            " Ensembles\t\t\t scripts\n",
            "/content/drive/My Drive/ConfidentMachineTranslation/flores\n"
          ],
          "name": "stdout"
        }
      ]
    },
    {
      "cell_type": "markdown",
      "metadata": {
        "id": "GXFhOZnXfF1H",
        "colab_type": "text"
      },
      "source": [
        "Compute BLEU score using sacrebleu"
      ]
    },
    {
      "cell_type": "code",
      "metadata": {
        "id": "j51-cjznf54g",
        "colab_type": "code",
        "outputId": "5f81f736-8e9d-4f9e-a91b-af52f9961189",
        "colab": {
          "base_uri": "https://localhost:8080/",
          "height": 54
        }
      },
      "source": [
        "!fairseq-generate \\\n",
        "    data-bin/wiki_ne_en_bpe5000/ \\\n",
        "    --source-lang ne --target-lang en \\\n",
        "    --path Ensembles/April_04.pt \\\n",
        "    --beam 5 --lenpen 1.2 \\\n",
        "    --gen-subset test \\\n",
        "    --remove-bpe=sentencepiece \\\n",
        "    --sacrebleu > analysis/testSet_BLEU.txt"
      ],
      "execution_count": 0,
      "outputs": [
        {
          "output_type": "stream",
          "text": [
            "  0% 0/14 [00:00<?, ?it/s]/pytorch/aten/src/ATen/native/BinaryOps.cpp:66: UserWarning: Integer division of tensors using div or / is deprecated, and in a future release div will perform true division as in Python 3. Use true_divide or floor_divide (// in Python) instead.\n"
          ],
          "name": "stdout"
        }
      ]
    },
    {
      "cell_type": "code",
      "metadata": {
        "id": "-m7AkHxlnaEo",
        "colab_type": "code",
        "colab": {}
      },
      "source": [
        "# !fairseq-generate \\\n",
        "#     data-bin/wiki_ne_en_bpe5000/ \\\n",
        "#     --source-lang en --target-lang ne \\\n",
        "#     --path backward_models/April_17.pt \\\n",
        "#     --beam 5 --lenpen 1.2 \\\n",
        "#     --gen-subset test \\\n",
        "#     --remove-bpe=sentencepiece \\\n",
        "#     --sacrebleu\n",
        "    # --sacrebleu > analysis/testSet_BLEU.txt"
      ],
      "execution_count": 0,
      "outputs": []
    },
    {
      "cell_type": "markdown",
      "metadata": {
        "id": "eXXznrR1zu6U",
        "colab_type": "text"
      },
      "source": [
        "The code below first parses the result from fairseq-generate, then puts it in two different files and then finally gets the sentence level bleu scores!"
      ]
    },
    {
      "cell_type": "code",
      "metadata": {
        "id": "y-I6h9S3vAsr",
        "colab_type": "code",
        "colab": {}
      },
      "source": [
        "from statistics import mean, median \n",
        "\n",
        "bleu_res = open(\"analysis/testSet_BLEU.txt\", \"r\")\n",
        "NMT_ground_truth = open(\"analysis/ground_truth_sentences.txt\", \"w\")\n",
        "NMT_output = open(\"analysis/translated_sentences.txt\", \"w\")\n",
        "Sentence_stats = open(\"analysis/logprob_statistics.txt\", \"w\")\n",
        "\n",
        "for line in bleu_res:\n",
        "    if line.startswith(\"H-\"):\n",
        "        NMT_output.write(line.split(\"\t\")[2])\n",
        "    elif line.startswith(\"T-\"):\n",
        "        NMT_ground_truth.write(line.split(\"\t\")[1])\n",
        "    elif line.startswith(\"P-\"):\n",
        "        scores = [float(i) for i in line.split(\"\\t\")[1].split(\" \")]\n",
        "        Sentence_stats.write(str(mean(scores))+\" \"+str(min(scores))+\" \"+str(median(scores))+\" \"+str(max(scores))+\"\\n\")\n",
        "\n",
        "NMT_ground_truth.close()\n",
        "NMT_output.close()\n",
        "Sentence_stats.close()"
      ],
      "execution_count": 0,
      "outputs": []
    },
    {
      "cell_type": "markdown",
      "metadata": {
        "id": "KNoX2Iszii3H",
        "colab_type": "text"
      },
      "source": [
        "We now use the two files produced to find sentence level bleu scores"
      ]
    },
    {
      "cell_type": "code",
      "metadata": {
        "id": "xI2KtEa3ggVo",
        "colab_type": "code",
        "colab": {}
      },
      "source": [
        "!fairseq-score --sys analysis/translated_sentences.txt --ref analysis/ground_truth_sentences.txt --sentence-bleu > analysis/scores.txt"
      ],
      "execution_count": 0,
      "outputs": []
    },
    {
      "cell_type": "markdown",
      "metadata": {
        "id": "MhLzDbCmiIa_",
        "colab_type": "text"
      },
      "source": [
        "BASELINE\n",
        "\n",
        "The next segment uses the sentence level bleu scores produced above along with the input and translated sentence pairs to calculate the fraction of datasets which lies above a specific threshold. We use the sorted list of BLEU scores for all sentences as thresholds. "
      ]
    },
    {
      "cell_type": "code",
      "metadata": {
        "id": "oOBeagGf4nqS",
        "colab_type": "code",
        "outputId": "e3140bea-7e36-47a3-980f-509f1d17f482",
        "colab": {
          "base_uri": "https://localhost:8080/",
          "height": 607
        }
      },
      "source": [
        "from itertools import zip_longest\n",
        "import matplotlib.pyplot as plt\n",
        "from sklearn.metrics import auc\n",
        "\n",
        "class Translation:\n",
        "    def __init__ (self, ref, out, score):\n",
        "        self.reference = ref\n",
        "        self.translation = out\n",
        "        self.score = score\n",
        "    def __repr__(self):\n",
        "        return str(self.score)\n",
        "\n",
        "def compute_excluded_included_score (translations, split_index):\n",
        "    included_sum = 0\n",
        "    excluded_sum = 0\n",
        "\n",
        "    for index in range(0, len(translations)):\n",
        "        if index < split_index:\n",
        "            excluded_sum += translations[index].score\n",
        "        else:\n",
        "            included_sum += translations[index].score\n",
        "    included_score = 0 if split_index == len(translations) - 1 else included_sum/(len(translations) - split_index)\n",
        "    excluded_score = 0 if split_index == 0 else excluded_sum/(split_index)\n",
        "    return excluded_score, included_score\n",
        "\n",
        "NMT_ground_truth = open(\"analysis/ground_truth_sentences.txt\", \"r\")\n",
        "NMT_output = open(\"analysis/translated_sentences.txt\", \"r\")\n",
        "Sentence_bleu = open(\"analysis/scores.txt\", \"r\")\n",
        "\n",
        "files = [NMT_ground_truth, NMT_output, Sentence_bleu]\n",
        "next(Sentence_bleu)\n",
        "translations = []\n",
        "\n",
        "for lines in zip_longest(*files, fillvalue=''):\n",
        "    reference, translation, score = lines\n",
        "    score = float(score.split(\"BLEU4 = \")[1].split(\",\")[0])\n",
        "    translations.append(Translation(reference, translation, score))\n",
        "\n",
        "translations.sort(key=lambda x: x.score, reverse=False)\n",
        "\n",
        "inclusion_scores = []\n",
        "exclusion_scores = []\n",
        "fraction_included = []\n",
        "fraction_excluded = []\n",
        "\n",
        "include_graph = True\n",
        "\n",
        "for split_index in range(0, len(translations)-1):\n",
        "    # if (translations[split_index].score == 0.0):\n",
        "    #     print(translations[split_index].reference)\n",
        "    #     print(translations[split_index].translation)\n",
        "    exclusion, inclusion = compute_excluded_included_score(translations, split_index)\n",
        "    inclusion_scores.append(inclusion)\n",
        "    exclusion_scores.append(exclusion)\n",
        "    fraction_included.append((len(translations) - split_index)/len(translations))\n",
        "    fraction_excluded.append(split_index/len(translations))\n",
        "\n",
        "  \n",
        "plt.scatter(fraction_included, inclusion_scores, color= \"blue\")\n",
        "plt.xlabel('Included Fraction') \n",
        "plt.ylabel('Average Sentence level BLEU score') \n",
        "plt.title('BLEU vs Fractional dataset') \n",
        "plt.show() \n",
        "\n",
        "print('AUC for incuded fraction: {}'.format(auc(fraction_included, inclusion_scores)))\n",
        "\n",
        "plt.scatter(fraction_excluded, exclusion_scores, color= \"red\")\n",
        "plt.xlabel('Excluded Fraction') \n",
        "plt.ylabel('Average Sentence level BLEU score') \n",
        "plt.title('BLEU vs Fractional dataset') \n",
        "plt.show()  \n",
        "\n",
        "print('AUC for excluded fraction: {}'.format(auc(fraction_excluded, exclusion_scores)))\n",
        "\n",
        "NMT_ground_truth.close()\n",
        "NMT_output.close()\n",
        "Sentence_bleu.close()"
      ],
      "execution_count": 0,
      "outputs": [
        {
          "output_type": "display_data",
          "data": {
            "image/png": "[encoded data removed]",
            "text/plain": [
              "<Figure size 432x288 with 1 Axes>"
            ]
          },
          "metadata": {
            "tags": [],
            "needs_background": "light"
          }
        },
        {
          "output_type": "stream",
          "text": [
            "AUC for incuded fraction: 20.175513054960824\n"
          ],
          "name": "stdout"
        },
        {
          "output_type": "display_data",
          "data": {
            "image/png": "[encoded data removed]",
            "text/plain": [
              "<Figure size 432x288 with 1 Axes>"
            ]
          },
          "metadata": {
            "tags": [],
            "needs_background": "light"
          }
        },
        {
          "output_type": "stream",
          "text": [
            "AUC for excluded fraction: 7.805317512946668\n"
          ],
          "name": "stdout"
        }
      ]
    },
    {
      "cell_type": "markdown",
      "metadata": {
        "id": "5zQfdv_j6X1V",
        "colab_type": "text"
      },
      "source": [
        "We now use (average/max/min/median) logprob token score for each sentence for thresholding and get BLEU (corpus) vs Fractional dataset graphs. "
      ]
    },
    {
      "cell_type": "code",
      "metadata": {
        "id": "jJUkp33t64Fy",
        "colab_type": "code",
        "outputId": "024e8ceb-c926-4587-9451-0159cfb6ddf7",
        "colab": {
          "base_uri": "https://localhost:8080/",
          "height": 550
        }
      },
      "source": [
        "from itertools import zip_longest\n",
        "import matplotlib.pyplot as plt\n",
        "from sklearn.metrics import auc\n",
        "from numpy import arange\n",
        "import subprocess\n",
        "import random\n",
        "import numpy as np\n",
        "\n",
        "\n",
        "class Translation:\n",
        "    def __init__ (self, ref, out, score):\n",
        "        self.reference = ref\n",
        "        self.translation = out\n",
        "        self.score = score\n",
        "    def __repr__(self):\n",
        "        return str(self.score)\n",
        "\n",
        "def compute_excluded_included_score (translations, split_index):\n",
        "    temporary_reference_inclusion = open(\"analysis/temporary_reference_inclusion.txt\", \"w\")\n",
        "    temporary_output_inclusion = open(\"analysis/temporary_output_inclusion.txt\", \"w\")\n",
        "\n",
        "    temporary_reference_exclusion = open(\"analysis/temporary_reference_exclusion.txt\", \"w\")\n",
        "    temporary_output_exclusion = open(\"analysis/temporary_output_exclusion.txt\", \"w\")\n",
        "\n",
        "    for i in range(len(translations)):\n",
        "        if i < split_index:\n",
        "            temporary_reference_exclusion.write(translations[i].reference)\n",
        "            temporary_output_exclusion.write(translations[i].translation)\n",
        "        else:\n",
        "            temporary_reference_inclusion.write(translations[i].reference)\n",
        "            temporary_output_inclusion.write(translations[i].translation)\n",
        "\n",
        "    temporary_reference_inclusion.close()\n",
        "    temporary_output_inclusion.close()\n",
        "    temporary_reference_exclusion.close()\n",
        "    temporary_output_exclusion.close()\n",
        "\n",
        "    !fairseq-score --sys analysis/temporary_output_inclusion.txt --ref analysis/temporary_reference_inclusion.txt --sacrebleu > analysis/inclusion_result.txt\n",
        "    !fairseq-score --sys analysis/temporary_output_exclusion.txt --ref analysis/temporary_reference_exclusion.txt --sacrebleu > analysis/exclusion_result.txt\n",
        "\n",
        "    temporary_inclusion_result = open(\"analysis/inclusion_result.txt\")\n",
        "    temporary_exclusion_result = open(\"analysis/exclusion_result.txt\")\n",
        "    inclusion_result_string = [line for line in temporary_inclusion_result][1].split(\" \")[2]\n",
        "    exclusion_result_string = [line for line in temporary_exclusion_result][1].split(\" \")[2]\n",
        "\n",
        "    return float(exclusion_result_string), float(inclusion_result_string)\n",
        "\n",
        "\n",
        "NMT_ground_truth = open(\"analysis/ground_truth_sentences.txt\", \"r\")\n",
        "NMT_output = open(\"analysis/translated_sentences.txt\", \"r\")\n",
        "Sentence_stats = open(\"analysis/logprob_statistics.txt\", \"r\")\n",
        "Sentence_bleu = open(\"analysis/scores.txt\", \"r\")\n",
        "\n",
        "next(Sentence_bleu)\n",
        "files = [NMT_ground_truth, NMT_output, Sentence_stats, Sentence_bleu]\n",
        "translations = []\n",
        "\n",
        "for lines in zip_longest(*files, fillvalue=''):\n",
        "    reference, translation, stats, sentence_bleu = lines\n",
        "    sentence_bleu = float(sentence_bleu.split(\"BLEU4 = \")[1].split(\",\")[0])\n",
        "    stats = [float(i) for i in stats.strip(\"\\n\").split(\" \")]\n",
        "    stats.append(sentence_bleu)\n",
        "    translations.append(Translation(reference, translation, stats))\n",
        "\n",
        "stats_for_thresholding = [0, 1, 2, 3, 4] #average per token, min, median, max, sentence_bleu\n",
        "num_to_thresh = {0:\"Average logprob thresholding\", 1: \"Min logprob thresholding\", 2:\"Median logprob thresholding\", 3:\"Max logprob thresholding\", 4:\"Sentence-level BLEU thresholding\"}\n",
        "all_inclusion_scores = []\n",
        "all_fractions_included = []\n",
        "\n",
        "for stat in stats_for_thresholding:\n",
        "    translations.sort(key=lambda x: x.score[stat], reverse=False)\n",
        "    # print(\"Worst reference: \" +translations[0].reference+\" Worst translation: \"+translations[0].translation)\n",
        "    thresholds = []\n",
        "\n",
        "\n",
        "    ##25 good thresholds for each case\n",
        "    if stat == 0:\n",
        "        thresholds = np.linspace(-1.5, 0, 25).tolist()\n",
        "    elif stat == 1:\n",
        "        thresholds = np.linspace(-3.5, 0, 25).tolist()\n",
        "    elif stat == 2:\n",
        "        thresholds = np.linspace(-1.5, 0, 25).tolist()\n",
        "    elif stat == 3:\n",
        "        thresholds = np.linspace(-0.1, 0, 25).tolist() \n",
        "    elif stat == 4:\n",
        "        thresholds = np.linspace(5, 60, 25).tolist()\n",
        "\n",
        "    inclusion_scores = []\n",
        "    exclusion_scores = []\n",
        "    fraction_included = []\n",
        "    fraction_excluded = []\n",
        "\n",
        "    for threshold in thresholds:\n",
        "        split_index = 1 ## We always start at 1% so that the exclusion set is never empty. \n",
        "        while split_index < 0.99*len(translations) and translations[split_index].score[stat] < threshold:  ##0.99*len(translations) - to make sure the inclusion set always has a good number of examples\n",
        "            split_index += 1\n",
        "        exclusion, inclusion = compute_excluded_included_score(translations, split_index)\n",
        "        inclusion_scores.append(inclusion)\n",
        "        exclusion_scores.append(exclusion)\n",
        "        fraction_included.append((len(translations) - split_index)/len(translations))\n",
        "        fraction_excluded.append(split_index/len(translations))\n",
        "    \n",
        "    all_inclusion_scores.append(inclusion_scores)\n",
        "    all_fractions_included.append(fraction_included)\n",
        "\n",
        "    #########################   PLOTING   ################################\n",
        "    # plt.xlabel('Fraction of Set') \n",
        "    # plt.ylabel('BLEU score (corpus)') \n",
        "    # plt.title('BLEU vs Fractional dataset ('+num_to_thresh[stat]+')') \n",
        "    \n",
        "    # plt.plot(fraction_included, inclusion_scores, label = \"Accepted Set\", color= \"blue\")\n",
        "    # plt.plot(fraction_excluded, exclusion_scores, label = \"Rejected Set\", color= \"red\")\n",
        "    # plt.legend(loc=\"upper right\")\n",
        "    # plt.show() \n",
        "\n",
        "\n",
        "    # plt.xlabel('Fraction Below Threshold') \n",
        "    # plt.ylabel('BLEU score (corpus)') \n",
        "    # plt.title('BLEU vs Fractional dataset ('+num_to_thresh[stat]+')') \n",
        "    # plt.show()  \n",
        "    print(num_to_thresh[stat])\n",
        "    print('AUC for incuded fraction: {}'.format(auc(fraction_included, inclusion_scores)))\n",
        "    print('AUC for excluded fraction: {}'.format(auc(fraction_excluded, exclusion_scores)))\n",
        "    ####################################################################\n",
        "\n",
        "plt.xlabel('Fraction Above Threshold') \n",
        "plt.ylabel('BLEU score (corpus)') \n",
        "plt.title('Comparing thresholds') \n",
        "for i in range(len(all_inclusion_scores)):\n",
        "    r = random.random()\n",
        "    b = random.random()\n",
        "    g = random.random()\n",
        "    c = (r, g, b)\n",
        "    plt.scatter(all_fractions_included[i], all_inclusion_scores[i], label = num_to_thresh[i], color=c)\n",
        "\n",
        "plt.legend(loc=\"upper right\")\n",
        "plt.show()\n",
        "\n",
        "NMT_ground_truth.close()\n",
        "NMT_output.close()\n",
        "Sentence_bleu.close()"
      ],
      "execution_count": 0,
      "outputs": [
        {
          "output_type": "stream",
          "text": [
            "Average logprob thresholding\n",
            "AUC for incuded fraction: 12.035084656084656\n",
            "AUC for excluded fraction: 4.41221340388007\n",
            "Min logprob thresholding\n",
            "AUC for incuded fraction: 10.17641622574956\n",
            "AUC for excluded fraction: 5.790306878306878\n",
            "Median logprob thresholding\n",
            "AUC for incuded fraction: 11.36679365079365\n",
            "AUC for excluded fraction: 4.546975308641976\n",
            "Max logprob thresholding\n",
            "AUC for incuded fraction: 8.053615520282186\n",
            "AUC for excluded fraction: 6.413622574955909\n",
            "Sentence-level BLEU thresholding\n",
            "AUC for incuded fraction: 15.64231746031746\n",
            "AUC for excluded fraction: 2.2986119929453266\n"
          ],
          "name": "stdout"
        },
        {
          "output_type": "display_data",
          "data": {
            "image/png": "[encoded data removed]",
            "text/plain": [
              "<Figure size 432x288 with 1 Axes>"
            ]
          },
          "metadata": {
            "tags": [],
            "needs_background": "light"
          }
        }
      ]
    },
    {
      "cell_type": "markdown",
      "metadata": {
        "id": "5g21h7PIO4J8",
        "colab_type": "text"
      },
      "source": [
        "Histogram of sentence level Bleu"
      ]
    },
    {
      "cell_type": "code",
      "metadata": {
        "id": "M3bq2b5ZO48c",
        "colab_type": "code",
        "outputId": "de83871a-1c5e-4836-9b58-7ec621c26a84",
        "colab": {
          "base_uri": "https://localhost:8080/",
          "height": 312
        }
      },
      "source": [
        "from itertools import zip_longest\n",
        "import matplotlib.pyplot as plt\n",
        "from sklearn.metrics import auc\n",
        "import numpy as np\n",
        "class Translation:\n",
        "    def __init__ (self, ref, out, score):\n",
        "        self.reference = ref\n",
        "        self.translation = out\n",
        "        self.score = score\n",
        "    def __repr__(self):\n",
        "        return str(self.score)\n",
        "\n",
        "def compute_excluded_included_score (translations, thresh):\n",
        "    included = []\n",
        "    excluded = []\n",
        "    for index in range(0, len(translations)):\n",
        "        if translations[index].score[0] >= thresh:\n",
        "            included.append(translations[index].score[-1])\n",
        "        else:\n",
        "            excluded.append(translations[index].score[-1])\n",
        "    return included, excluded\n",
        "\n",
        "NMT_ground_truth = open(\"analysis/ground_truth_sentences.txt\", \"r\")\n",
        "NMT_output = open(\"analysis/translated_sentences.txt\", \"r\")\n",
        "Sentence_stats = open(\"analysis/logprob_statistics.txt\", \"r\")\n",
        "Sentence_bleu = open(\"analysis/scores.txt\", \"r\")\n",
        "\n",
        "files = [NMT_ground_truth, NMT_output, Sentence_stats, Sentence_bleu]\n",
        "next(Sentence_bleu)\n",
        "translations = []\n",
        "\n",
        "for lines in zip_longest(*files, fillvalue=''):\n",
        "    reference, translation, stats, sentence_bleu = lines\n",
        "    sentence_bleu = float(sentence_bleu.split(\"BLEU4 = \")[1].split(\",\")[0])\n",
        "    stats = [float(i) for i in stats.strip(\"\\n\").split(\" \")]\n",
        "    stats.append(sentence_bleu)\n",
        "    translations.append(Translation(reference, translation, stats))\n",
        "\n",
        "translations.sort(key=lambda x: x.score, reverse=False)\n",
        "\n",
        "#Change this threshold to change thresholding variable\n",
        "avgLogProbThresh = -0.75\n",
        "bins = np.linspace(0, 100, 20)\n",
        "included, excluded = compute_excluded_included_score(translations, avgLogProbThresh)\n",
        "\n",
        "weights = np.ones_like(included)/len(translations)\n",
        "vals1, _, _ = plt.hist(included, bins, alpha=0.5, label=\"included\", weights=weights)\n",
        "weights = np.ones_like(excluded)/len(translations)\n",
        "vals2, _, _ = plt.hist(excluded, bins, alpha=0.5, label=\"excluded\", weights=weights)\n",
        "print(\"sanity check, sum of bars is: \", np.sum(vals1)+np.sum(vals2))\n",
        "plt.ylabel(\"Fraction of sentences translated\")\n",
        "plt.xlabel(\"Sentence level BLEU Scores\")\n",
        "plt.legend(loc='upper right')\n",
        "plt.title('Histogram of sentence level BLEU at -0.75 average logprob thresholding') \n",
        "plt.show()\n",
        "\n",
        "NMT_ground_truth.close()\n",
        "NMT_output.close()\n",
        "Sentence_bleu.close()"
      ],
      "execution_count": 0,
      "outputs": [
        {
          "output_type": "stream",
          "text": [
            "sanity check, sum of bars is:  1.0000000000000222\n"
          ],
          "name": "stdout"
        },
        {
          "output_type": "display_data",
          "data": {
            "image/png": "[encoded data removed]",
            "text/plain": [
              "<Figure size 432x288 with 1 Axes>"
            ]
          },
          "metadata": {
            "tags": [],
            "needs_background": "light"
          }
        }
      ]
    },
    {
      "cell_type": "markdown",
      "metadata": {
        "id": "NBFAQvhu7PDK",
        "colab_type": "text"
      },
      "source": [
        "Master script to run the whole thing for several models"
      ]
    },
    {
      "cell_type": "code",
      "metadata": {
        "id": "DhM8uNHN7Otk",
        "colab_type": "code",
        "outputId": "0a13ac54-3cd4-4e8d-98b9-ce14e4eb8b01",
        "colab": {
          "base_uri": "https://localhost:8080/",
          "height": 1000
        }
      },
      "source": [
        "# import glob\n",
        "# path = 'Ensembles/*'\n",
        "# ensemble_models = \"\"\n",
        "# models = []\n",
        "# for file in glob.glob(path):\n",
        "#     models.append(file)\n",
        "\n",
        "models = ['Ensembles/April_13.pt', 'Ensembles/April_14.pt']\n",
        "print(models)\n",
        "\n",
        "for model in models:\n",
        "\n",
        "    print(\"Current model = \" + model)\n",
        "\n",
        "    !fairseq-generate \\\n",
        "        data-bin/wiki_ne_en_bpe5000/ \\\n",
        "        --source-lang ne --target-lang en \\\n",
        "        --path $model \\\n",
        "        --beam 5 --lenpen 1.2 \\\n",
        "        --gen-subset test \\\n",
        "        --remove-bpe=sentencepiece \\\n",
        "        --sacrebleu > analysis/testSet_BLEU.txt\n",
        "    \n",
        "    from statistics import mean, median \n",
        "\n",
        "    bleu_res = open(\"analysis/testSet_BLEU.txt\", \"r\")\n",
        "    NMT_ground_truth = open(\"analysis/ground_truth_sentences.txt\", \"w\")\n",
        "    NMT_output = open(\"analysis/translated_sentences.txt\", \"w\")\n",
        "    Sentence_stats = open(\"analysis/logprob_statistics.txt\", \"w\")\n",
        "\n",
        "    for line in bleu_res:\n",
        "        if line.startswith(\"H-\"):\n",
        "            NMT_output.write(line.split(\"\t\")[2])\n",
        "        elif line.startswith(\"T-\"):\n",
        "            NMT_ground_truth.write(line.split(\"\t\")[1])\n",
        "        elif line.startswith(\"P-\"):\n",
        "            scores = [float(i) for i in line.split(\"\\t\")[1].split(\" \")]\n",
        "            Sentence_stats.write(str(mean(scores))+\" \"+str(min(scores))+\" \"+str(median(scores))+\" \"+str(max(scores))+\"\\n\")\n",
        "\n",
        "    NMT_ground_truth.close()\n",
        "    NMT_output.close()\n",
        "    Sentence_stats.close()\n",
        "\n",
        "    !fairseq-score --sys analysis/translated_sentences.txt --ref analysis/ground_truth_sentences.txt --sentence-bleu > analysis/scores.txt\n",
        "\n",
        "    from itertools import zip_longest\n",
        "    import matplotlib.pyplot as plt\n",
        "    from sklearn.metrics import auc\n",
        "    from numpy import arange\n",
        "    import subprocess\n",
        "    import random\n",
        "    import numpy as np\n",
        "\n",
        "\n",
        "    class Translation:\n",
        "        def __init__ (self, ref, out, score):\n",
        "            self.reference = ref\n",
        "            self.translation = out\n",
        "            self.score = score\n",
        "        def __repr__(self):\n",
        "            return str(self.score)\n",
        "\n",
        "    def compute_excluded_included_score (translations, split_index):\n",
        "        temporary_reference_inclusion = open(\"analysis/temporary_reference_inclusion.txt\", \"w\")\n",
        "        temporary_output_inclusion = open(\"analysis/temporary_output_inclusion.txt\", \"w\")\n",
        "\n",
        "        temporary_reference_exclusion = open(\"analysis/temporary_reference_exclusion.txt\", \"w\")\n",
        "        temporary_output_exclusion = open(\"analysis/temporary_output_exclusion.txt\", \"w\")\n",
        "\n",
        "        for i in range(len(translations)):\n",
        "            if i < split_index:\n",
        "                temporary_reference_exclusion.write(translations[i].reference)\n",
        "                temporary_output_exclusion.write(translations[i].translation)\n",
        "            else:\n",
        "                temporary_reference_inclusion.write(translations[i].reference)\n",
        "                temporary_output_inclusion.write(translations[i].translation)\n",
        "\n",
        "        temporary_reference_inclusion.close()\n",
        "        temporary_output_inclusion.close()\n",
        "        temporary_reference_exclusion.close()\n",
        "        temporary_output_exclusion.close()\n",
        "\n",
        "        !fairseq-score --sys analysis/temporary_output_inclusion.txt --ref analysis/temporary_reference_inclusion.txt --sacrebleu > analysis/inclusion_result.txt\n",
        "        !fairseq-score --sys analysis/temporary_output_exclusion.txt --ref analysis/temporary_reference_exclusion.txt --sacrebleu > analysis/exclusion_result.txt\n",
        "\n",
        "        temporary_inclusion_result = open(\"analysis/inclusion_result.txt\")\n",
        "        temporary_exclusion_result = open(\"analysis/exclusion_result.txt\")\n",
        "        inclusion_result_string = [line for line in temporary_inclusion_result][1].split(\" \")[2]\n",
        "        exclusion_result_string = [line for line in temporary_exclusion_result][1].split(\" \")[2]\n",
        "\n",
        "        return float(exclusion_result_string), float(inclusion_result_string)\n",
        "\n",
        "\n",
        "    NMT_ground_truth = open(\"analysis/ground_truth_sentences.txt\", \"r\")\n",
        "    NMT_output = open(\"analysis/translated_sentences.txt\", \"r\")\n",
        "    Sentence_stats = open(\"analysis/logprob_statistics.txt\", \"r\")\n",
        "    Sentence_bleu = open(\"analysis/scores.txt\", \"r\")\n",
        "\n",
        "    next(Sentence_bleu)\n",
        "    files = [NMT_ground_truth, NMT_output, Sentence_stats, Sentence_bleu]\n",
        "    translations = []\n",
        "\n",
        "    for lines in zip_longest(*files, fillvalue=''):\n",
        "        reference, translation, stats, sentence_bleu = lines\n",
        "        sentence_bleu = float(sentence_bleu.split(\"BLEU4 = \")[1].split(\",\")[0])\n",
        "        stats = [float(i) for i in stats.strip(\"\\n\").split(\" \")]\n",
        "        stats.append(sentence_bleu)\n",
        "        translations.append(Translation(reference, translation, stats))\n",
        "\n",
        "    stats_for_thresholding = [0,1,2,3,4] #average per token, min, median, max, sentence_bleu\n",
        "    num_to_thresh = {0:\"Average logprob thresholding\", 1: \"Min logprob thresholding\", 2:\"Median logprob thresholding\", 3:\"Max logprob thresholding\", 4:\"Sentence-level BLEU thresholding\"}\n",
        "    all_inclusion_scores = []\n",
        "    all_fractions_included = []\n",
        "\n",
        "    for stat in stats_for_thresholding:\n",
        "        translations.sort(key=lambda x: x.score[stat], reverse=False)\n",
        "        # print(\"Worst reference: \" +translations[0].reference+\" Worst translation: \"+translations[0].translation)\n",
        "        thresholds = []\n",
        "\n",
        "\n",
        "        ##25 good thresholds for each case\n",
        "        if stat == 0:\n",
        "            thresholds = np.linspace(-1.5, 0, 25).tolist()\n",
        "        elif stat == 1:\n",
        "            thresholds = np.linspace(-3.5, 0, 25).tolist()\n",
        "        elif stat == 2:\n",
        "            thresholds = np.linspace(-1.5, 0, 25).tolist()\n",
        "        elif stat == 3:\n",
        "            thresholds = np.linspace(-0.1, 0, 25).tolist() \n",
        "        elif stat == 4:\n",
        "            thresholds = np.linspace(0, 70, 25).tolist()\n",
        "\n",
        "        inclusion_scores = []\n",
        "        exclusion_scores = []\n",
        "        fraction_included = []\n",
        "        fraction_excluded = []\n",
        "\n",
        "        for threshold in thresholds:\n",
        "            split_index = 1 ## We always start at 1% so that the exclusion set is never empty. \n",
        "            while split_index < 0.99*len(translations) and translations[split_index].score[stat] < threshold:  ##0.99*len(translations) - to make sure the inclusion set always has a good number of examples\n",
        "                split_index += 1\n",
        "            exclusion, inclusion = compute_excluded_included_score(translations, split_index)\n",
        "            inclusion_scores.append(inclusion)\n",
        "            exclusion_scores.append(exclusion)\n",
        "            fraction_included.append((len(translations) - split_index)/len(translations))\n",
        "            fraction_excluded.append(split_index/len(translations))\n",
        "        \n",
        "        all_inclusion_scores.append(inclusion_scores)\n",
        "        all_fractions_included.append(fraction_included)\n",
        "\n",
        "        #########################   PLOTING   ################################\n",
        "        # plt.xlabel('Fraction of Set') \n",
        "        # plt.ylabel('BLEU score (corpus)') \n",
        "        # plt.title('BLEU vs Fractional dataset ('+num_to_thresh[stat]+')') \n",
        "        \n",
        "        # plt.plot(fraction_included, inclusion_scores, label = \"Accepted Set\", color= \"blue\")\n",
        "        # plt.plot(fraction_excluded, exclusion_scores, label = \"Rejected Set\", color= \"red\")\n",
        "        # plt.legend(loc=\"upper right\")\n",
        "        # plt.show() \n",
        "\n",
        "\n",
        "        # plt.xlabel('Fraction Below Threshold') \n",
        "        # plt.ylabel('BLEU score (corpus)') \n",
        "        # plt.title('BLEU vs Fractional dataset ('+num_to_thresh[stat]+')') \n",
        "        # plt.show()  \n",
        "        print(num_to_thresh[stat])\n",
        "        print('AUC for incuded fraction: {}'.format(auc(fraction_included, inclusion_scores)))\n",
        "        print('AUC for excluded fraction: {}'.format(auc(fraction_excluded, exclusion_scores)))\n",
        "        ####################################################################\n",
        "\n",
        "    plt.xlabel('Fraction Above Threshold') \n",
        "    plt.ylabel('BLEU score (corpus)') \n",
        "    plt.title('Comparing thresholds') \n",
        "    for i in range(len(all_inclusion_scores)):\n",
        "        r = random.random()\n",
        "        b = random.random()\n",
        "        g = random.random()\n",
        "        c = (r, g, b)\n",
        "        plt.plot(all_fractions_included[i], all_inclusion_scores[i], label = num_to_thresh[i], color=c)\n",
        "\n",
        "    plt.legend(loc=\"upper right\")\n",
        "    plt.show()\n",
        "\n",
        "    NMT_ground_truth.close()\n",
        "    NMT_output.close()\n",
        "    Sentence_bleu.close()\n"
      ],
      "execution_count": 0,
      "outputs": [
        {
          "output_type": "stream",
          "text": [
            "['Ensembles/April_13.pt', 'Ensembles/April_14.pt']\n",
            "Current model = Ensembles/April_13.pt\n",
            "Traceback (most recent call last):\n",
            "  File \"/usr/local/lib/python3.6/dist-packages/fairseq/checkpoint_utils.py\", line 151, in load_checkpoint_to_cpu\n",
            "    from fairseq.fb_pathmgr import fb_pathmgr\n",
            "ModuleNotFoundError: No module named 'fairseq.fb_pathmgr'\n",
            "\n",
            "During handling of the above exception, another exception occurred:\n",
            "\n",
            "Traceback (most recent call last):\n",
            "  File \"/usr/local/bin/fairseq-generate\", line 8, in <module>\n",
            "    sys.exit(cli_main())\n",
            "  File \"/usr/local/lib/python3.6/dist-packages/fairseq_cli/generate.py\", line 199, in cli_main\n",
            "    main(args)\n",
            "  File \"/usr/local/lib/python3.6/dist-packages/fairseq_cli/generate.py\", line 47, in main\n",
            "    task=task,\n",
            "  File \"/usr/local/lib/python3.6/dist-packages/fairseq/checkpoint_utils.py\", line 179, in load_model_ensemble\n",
            "    ensemble, args, _task = load_model_ensemble_and_task(filenames, arg_overrides, task)\n",
            "  File \"/usr/local/lib/python3.6/dist-packages/fairseq/checkpoint_utils.py\", line 190, in load_model_ensemble_and_task\n",
            "    state = load_checkpoint_to_cpu(filename, arg_overrides)\n",
            "  File \"/usr/local/lib/python3.6/dist-packages/fairseq/checkpoint_utils.py\", line 160, in load_checkpoint_to_cpu\n",
            "    path, map_location=lambda s, l: default_restore_location(s, \"cpu\")\n",
            "  File \"/usr/local/lib/python3.6/dist-packages/torch/serialization.py\", line 593, in load\n",
            "    return _legacy_load(opened_file, map_location, pickle_module, **pickle_load_args)\n",
            "  File \"/usr/local/lib/python3.6/dist-packages/torch/serialization.py\", line 780, in _legacy_load\n",
            "    deserialized_objects[key]._set_from_file(f, offset, f_should_read_directly)\n",
            "KeyboardInterrupt\n",
            "Traceback (most recent call last):\n",
            "  File \"/usr/local/bin/fairseq-score\", line 8, in <module>\n",
            "    sys.exit(main())\n",
            "  File \"/usr/local/lib/python3.6/dist-packages/fairseq_cli/score.py\", line 84, in main\n",
            "    score(f)\n",
            "  File \"/usr/local/lib/python3.6/dist-packages/fairseq_cli/score.py\", line 59, in score\n",
            "    print(sacrebleu.corpus_bleu(fdsys, [fdref]))\n",
            "  File \"/usr/local/lib/python3.6/dist-packages/sacrebleu/sacrebleu.py\", line 455, in __str__\n",
            "    return self.format()\n",
            "  File \"/usr/local/lib/python3.6/dist-packages/sacrebleu/sacrebleu.py\", line 483, in format\n",
            "    ratio=self.sys_len / self.ref_len,\n",
            "ZeroDivisionError: division by zero\n"
          ],
          "name": "stdout"
        },
        {
          "output_type": "error",
          "ename": "KeyboardInterrupt",
          "evalue": "ignored",
          "traceback": [
            "\u001b[0;31m---------------------------------------------------------------------------\u001b[0m",
            "\u001b[0;31mKeyboardInterrupt\u001b[0m                         Traceback (most recent call last)",
            "\u001b[0;32m<ipython-input-9-b7e76fc36425>\u001b[0m in \u001b[0;36m<module>\u001b[0;34m()\u001b[0m\n\u001b[1;32m    133\u001b[0m             \u001b[0;32mwhile\u001b[0m \u001b[0msplit_index\u001b[0m \u001b[0;34m<\u001b[0m \u001b[0;36m0.99\u001b[0m\u001b[0;34m*\u001b[0m\u001b[0mlen\u001b[0m\u001b[0;34m(\u001b[0m\u001b[0mtranslations\u001b[0m\u001b[0;34m)\u001b[0m \u001b[0;32mand\u001b[0m \u001b[0mtranslations\u001b[0m\u001b[0;34m[\u001b[0m\u001b[0msplit_index\u001b[0m\u001b[0;34m]\u001b[0m\u001b[0;34m.\u001b[0m\u001b[0mscore\u001b[0m\u001b[0;34m[\u001b[0m\u001b[0mstat\u001b[0m\u001b[0;34m]\u001b[0m \u001b[0;34m<\u001b[0m \u001b[0mthreshold\u001b[0m\u001b[0;34m:\u001b[0m  \u001b[0;31m##0.99*len(translations) - to make sure the inclusion set always has a good number of examples\u001b[0m\u001b[0;34m\u001b[0m\u001b[0;34m\u001b[0m\u001b[0m\n\u001b[1;32m    134\u001b[0m                 \u001b[0msplit_index\u001b[0m \u001b[0;34m+=\u001b[0m \u001b[0;36m1\u001b[0m\u001b[0;34m\u001b[0m\u001b[0;34m\u001b[0m\u001b[0m\n\u001b[0;32m--> 135\u001b[0;31m             \u001b[0mexclusion\u001b[0m\u001b[0;34m,\u001b[0m \u001b[0minclusion\u001b[0m \u001b[0;34m=\u001b[0m \u001b[0mcompute_excluded_included_score\u001b[0m\u001b[0;34m(\u001b[0m\u001b[0mtranslations\u001b[0m\u001b[0;34m,\u001b[0m \u001b[0msplit_index\u001b[0m\u001b[0;34m)\u001b[0m\u001b[0;34m\u001b[0m\u001b[0;34m\u001b[0m\u001b[0m\n\u001b[0m\u001b[1;32m    136\u001b[0m             \u001b[0minclusion_scores\u001b[0m\u001b[0;34m.\u001b[0m\u001b[0mappend\u001b[0m\u001b[0;34m(\u001b[0m\u001b[0minclusion\u001b[0m\u001b[0;34m)\u001b[0m\u001b[0;34m\u001b[0m\u001b[0;34m\u001b[0m\u001b[0m\n\u001b[1;32m    137\u001b[0m             \u001b[0mexclusion_scores\u001b[0m\u001b[0;34m.\u001b[0m\u001b[0mappend\u001b[0m\u001b[0;34m(\u001b[0m\u001b[0mexclusion\u001b[0m\u001b[0;34m)\u001b[0m\u001b[0;34m\u001b[0m\u001b[0;34m\u001b[0m\u001b[0m\n",
            "\u001b[0;32m<ipython-input-9-b7e76fc36425>\u001b[0m in \u001b[0;36mcompute_excluded_included_score\u001b[0;34m(translations, split_index)\u001b[0m\n\u001b[1;32m     74\u001b[0m         \u001b[0mtemporary_output_exclusion\u001b[0m\u001b[0;34m.\u001b[0m\u001b[0mclose\u001b[0m\u001b[0;34m(\u001b[0m\u001b[0;34m)\u001b[0m\u001b[0;34m\u001b[0m\u001b[0;34m\u001b[0m\u001b[0m\n\u001b[1;32m     75\u001b[0m \u001b[0;34m\u001b[0m\u001b[0m\n\u001b[0;32m---> 76\u001b[0;31m         \u001b[0mget_ipython\u001b[0m\u001b[0;34m(\u001b[0m\u001b[0;34m)\u001b[0m\u001b[0;34m.\u001b[0m\u001b[0msystem\u001b[0m\u001b[0;34m(\u001b[0m\u001b[0;34m'fairseq-score --sys analysis/temporary_output_inclusion.txt --ref analysis/temporary_reference_inclusion.txt --sacrebleu > analysis/inclusion_result.txt'\u001b[0m\u001b[0;34m)\u001b[0m\u001b[0;34m\u001b[0m\u001b[0;34m\u001b[0m\u001b[0m\n\u001b[0m\u001b[1;32m     77\u001b[0m         \u001b[0mget_ipython\u001b[0m\u001b[0;34m(\u001b[0m\u001b[0;34m)\u001b[0m\u001b[0;34m.\u001b[0m\u001b[0msystem\u001b[0m\u001b[0;34m(\u001b[0m\u001b[0;34m'fairseq-score --sys analysis/temporary_output_exclusion.txt --ref analysis/temporary_reference_exclusion.txt --sacrebleu > analysis/exclusion_result.txt'\u001b[0m\u001b[0;34m)\u001b[0m\u001b[0;34m\u001b[0m\u001b[0;34m\u001b[0m\u001b[0m\n\u001b[1;32m     78\u001b[0m \u001b[0;34m\u001b[0m\u001b[0m\n",
            "\u001b[0;32m/usr/local/lib/python3.6/dist-packages/google/colab/_shell.py\u001b[0m in \u001b[0;36msystem\u001b[0;34m(self, *args, **kwargs)\u001b[0m\n\u001b[1;32m    100\u001b[0m       \u001b[0mkwargs\u001b[0m\u001b[0;34m.\u001b[0m\u001b[0mupdate\u001b[0m\u001b[0;34m(\u001b[0m\u001b[0;34m{\u001b[0m\u001b[0;34m'also_return_output'\u001b[0m\u001b[0;34m:\u001b[0m \u001b[0;32mTrue\u001b[0m\u001b[0;34m}\u001b[0m\u001b[0;34m)\u001b[0m\u001b[0;34m\u001b[0m\u001b[0;34m\u001b[0m\u001b[0m\n\u001b[1;32m    101\u001b[0m \u001b[0;34m\u001b[0m\u001b[0m\n\u001b[0;32m--> 102\u001b[0;31m     \u001b[0moutput\u001b[0m \u001b[0;34m=\u001b[0m \u001b[0m_system_commands\u001b[0m\u001b[0;34m.\u001b[0m\u001b[0m_system_compat\u001b[0m\u001b[0;34m(\u001b[0m\u001b[0mself\u001b[0m\u001b[0;34m,\u001b[0m \u001b[0;34m*\u001b[0m\u001b[0margs\u001b[0m\u001b[0;34m,\u001b[0m \u001b[0;34m**\u001b[0m\u001b[0mkwargs\u001b[0m\u001b[0;34m)\u001b[0m  \u001b[0;31m# pylint:disable=protected-access\u001b[0m\u001b[0;34m\u001b[0m\u001b[0;34m\u001b[0m\u001b[0m\n\u001b[0m\u001b[1;32m    103\u001b[0m \u001b[0;34m\u001b[0m\u001b[0m\n\u001b[1;32m    104\u001b[0m     \u001b[0;32mif\u001b[0m \u001b[0mpip_warn\u001b[0m\u001b[0;34m:\u001b[0m\u001b[0;34m\u001b[0m\u001b[0;34m\u001b[0m\u001b[0m\n",
            "\u001b[0;32m/usr/local/lib/python3.6/dist-packages/google/colab/_system_commands.py\u001b[0m in \u001b[0;36m_system_compat\u001b[0;34m(shell, cmd, also_return_output)\u001b[0m\n\u001b[1;32m    436\u001b[0m   \u001b[0;31m# stack.\u001b[0m\u001b[0;34m\u001b[0m\u001b[0;34m\u001b[0m\u001b[0;34m\u001b[0m\u001b[0m\n\u001b[1;32m    437\u001b[0m   result = _run_command(\n\u001b[0;32m--> 438\u001b[0;31m       shell.var_expand(cmd, depth=2), clear_streamed_output=False)\n\u001b[0m\u001b[1;32m    439\u001b[0m   \u001b[0mshell\u001b[0m\u001b[0;34m.\u001b[0m\u001b[0muser_ns\u001b[0m\u001b[0;34m[\u001b[0m\u001b[0;34m'_exit_code'\u001b[0m\u001b[0;34m]\u001b[0m \u001b[0;34m=\u001b[0m \u001b[0mresult\u001b[0m\u001b[0;34m.\u001b[0m\u001b[0mreturncode\u001b[0m\u001b[0;34m\u001b[0m\u001b[0;34m\u001b[0m\u001b[0m\n\u001b[1;32m    440\u001b[0m   \u001b[0;32mif\u001b[0m \u001b[0;34m-\u001b[0m\u001b[0mresult\u001b[0m\u001b[0;34m.\u001b[0m\u001b[0mreturncode\u001b[0m \u001b[0;32min\u001b[0m \u001b[0m_INTERRUPTED_SIGNALS\u001b[0m\u001b[0;34m:\u001b[0m\u001b[0;34m\u001b[0m\u001b[0;34m\u001b[0m\u001b[0m\n",
            "\u001b[0;32m/usr/local/lib/python3.6/dist-packages/google/colab/_system_commands.py\u001b[0m in \u001b[0;36m_run_command\u001b[0;34m(cmd, clear_streamed_output)\u001b[0m\n\u001b[1;32m    193\u001b[0m       \u001b[0mos\u001b[0m\u001b[0;34m.\u001b[0m\u001b[0mclose\u001b[0m\u001b[0;34m(\u001b[0m\u001b[0mchild_pty\u001b[0m\u001b[0;34m)\u001b[0m\u001b[0;34m\u001b[0m\u001b[0;34m\u001b[0m\u001b[0m\n\u001b[1;32m    194\u001b[0m \u001b[0;34m\u001b[0m\u001b[0m\n\u001b[0;32m--> 195\u001b[0;31m       \u001b[0;32mreturn\u001b[0m \u001b[0m_monitor_process\u001b[0m\u001b[0;34m(\u001b[0m\u001b[0mparent_pty\u001b[0m\u001b[0;34m,\u001b[0m \u001b[0mepoll\u001b[0m\u001b[0;34m,\u001b[0m \u001b[0mp\u001b[0m\u001b[0;34m,\u001b[0m \u001b[0mcmd\u001b[0m\u001b[0;34m,\u001b[0m \u001b[0mupdate_stdin_widget\u001b[0m\u001b[0;34m)\u001b[0m\u001b[0;34m\u001b[0m\u001b[0;34m\u001b[0m\u001b[0m\n\u001b[0m\u001b[1;32m    196\u001b[0m   \u001b[0;32mfinally\u001b[0m\u001b[0;34m:\u001b[0m\u001b[0;34m\u001b[0m\u001b[0;34m\u001b[0m\u001b[0m\n\u001b[1;32m    197\u001b[0m     \u001b[0mepoll\u001b[0m\u001b[0;34m.\u001b[0m\u001b[0mclose\u001b[0m\u001b[0;34m(\u001b[0m\u001b[0;34m)\u001b[0m\u001b[0;34m\u001b[0m\u001b[0;34m\u001b[0m\u001b[0m\n",
            "\u001b[0;32m/usr/lib/python3.6/contextlib.py\u001b[0m in \u001b[0;36m__exit__\u001b[0;34m(self, type, value, traceback)\u001b[0m\n\u001b[1;32m     86\u001b[0m         \u001b[0;32mif\u001b[0m \u001b[0mtype\u001b[0m \u001b[0;32mis\u001b[0m \u001b[0;32mNone\u001b[0m\u001b[0;34m:\u001b[0m\u001b[0;34m\u001b[0m\u001b[0;34m\u001b[0m\u001b[0m\n\u001b[1;32m     87\u001b[0m             \u001b[0;32mtry\u001b[0m\u001b[0;34m:\u001b[0m\u001b[0;34m\u001b[0m\u001b[0;34m\u001b[0m\u001b[0m\n\u001b[0;32m---> 88\u001b[0;31m                 \u001b[0mnext\u001b[0m\u001b[0;34m(\u001b[0m\u001b[0mself\u001b[0m\u001b[0;34m.\u001b[0m\u001b[0mgen\u001b[0m\u001b[0;34m)\u001b[0m\u001b[0;34m\u001b[0m\u001b[0;34m\u001b[0m\u001b[0m\n\u001b[0m\u001b[1;32m     89\u001b[0m             \u001b[0;32mexcept\u001b[0m \u001b[0mStopIteration\u001b[0m\u001b[0;34m:\u001b[0m\u001b[0;34m\u001b[0m\u001b[0;34m\u001b[0m\u001b[0m\n\u001b[1;32m     90\u001b[0m                 \u001b[0;32mreturn\u001b[0m \u001b[0;32mFalse\u001b[0m\u001b[0;34m\u001b[0m\u001b[0;34m\u001b[0m\u001b[0m\n",
            "\u001b[0;32m/usr/local/lib/python3.6/dist-packages/google/colab/_system_commands.py\u001b[0m in \u001b[0;36m_display_stdin_widget\u001b[0;34m(delay_millis)\u001b[0m\n\u001b[1;32m    353\u001b[0m \u001b[0;34m\u001b[0m\u001b[0m\n\u001b[1;32m    354\u001b[0m   \u001b[0mhide_args\u001b[0m \u001b[0;34m=\u001b[0m \u001b[0;34m[\u001b[0m\u001b[0;34m'cell_remove_stdin'\u001b[0m\u001b[0;34m,\u001b[0m \u001b[0;34m{\u001b[0m\u001b[0;34m}\u001b[0m\u001b[0;34m]\u001b[0m\u001b[0;34m\u001b[0m\u001b[0;34m\u001b[0m\u001b[0m\n\u001b[0;32m--> 355\u001b[0;31m   \u001b[0m_message\u001b[0m\u001b[0;34m.\u001b[0m\u001b[0mblocking_request\u001b[0m\u001b[0;34m(\u001b[0m\u001b[0;34m*\u001b[0m\u001b[0mhide_args\u001b[0m\u001b[0;34m,\u001b[0m \u001b[0mparent\u001b[0m\u001b[0;34m=\u001b[0m\u001b[0mshell\u001b[0m\u001b[0;34m.\u001b[0m\u001b[0mparent_header\u001b[0m\u001b[0;34m)\u001b[0m\u001b[0;34m\u001b[0m\u001b[0;34m\u001b[0m\u001b[0m\n\u001b[0m\u001b[1;32m    356\u001b[0m \u001b[0;34m\u001b[0m\u001b[0m\n\u001b[1;32m    357\u001b[0m \u001b[0;34m\u001b[0m\u001b[0m\n",
            "\u001b[0;32m/usr/local/lib/python3.6/dist-packages/google/colab/_message.py\u001b[0m in \u001b[0;36mblocking_request\u001b[0;34m(request_type, request, timeout_sec, parent)\u001b[0m\n\u001b[1;32m    169\u001b[0m   \u001b[0;31m# unique.\u001b[0m\u001b[0;34m\u001b[0m\u001b[0;34m\u001b[0m\u001b[0;34m\u001b[0m\u001b[0m\n\u001b[1;32m    170\u001b[0m   \u001b[0mrequest_id\u001b[0m \u001b[0;34m=\u001b[0m \u001b[0msend_request\u001b[0m\u001b[0;34m(\u001b[0m\u001b[0mrequest_type\u001b[0m\u001b[0;34m,\u001b[0m \u001b[0mrequest\u001b[0m\u001b[0;34m,\u001b[0m \u001b[0mparent\u001b[0m\u001b[0;34m=\u001b[0m\u001b[0mparent\u001b[0m\u001b[0;34m)\u001b[0m\u001b[0;34m\u001b[0m\u001b[0;34m\u001b[0m\u001b[0m\n\u001b[0;32m--> 171\u001b[0;31m   \u001b[0;32mreturn\u001b[0m \u001b[0mread_reply_from_input\u001b[0m\u001b[0;34m(\u001b[0m\u001b[0mrequest_id\u001b[0m\u001b[0;34m,\u001b[0m \u001b[0mtimeout_sec\u001b[0m\u001b[0;34m)\u001b[0m\u001b[0;34m\u001b[0m\u001b[0;34m\u001b[0m\u001b[0m\n\u001b[0m",
            "\u001b[0;32m/usr/local/lib/python3.6/dist-packages/google/colab/_message.py\u001b[0m in \u001b[0;36mread_reply_from_input\u001b[0;34m(message_id, timeout_sec)\u001b[0m\n\u001b[1;32m     99\u001b[0m     \u001b[0mreply\u001b[0m \u001b[0;34m=\u001b[0m \u001b[0m_read_next_input_message\u001b[0m\u001b[0;34m(\u001b[0m\u001b[0;34m)\u001b[0m\u001b[0;34m\u001b[0m\u001b[0;34m\u001b[0m\u001b[0m\n\u001b[1;32m    100\u001b[0m     \u001b[0;32mif\u001b[0m \u001b[0mreply\u001b[0m \u001b[0;34m==\u001b[0m \u001b[0m_NOT_READY\u001b[0m \u001b[0;32mor\u001b[0m \u001b[0;32mnot\u001b[0m \u001b[0misinstance\u001b[0m\u001b[0;34m(\u001b[0m\u001b[0mreply\u001b[0m\u001b[0;34m,\u001b[0m \u001b[0mdict\u001b[0m\u001b[0;34m)\u001b[0m\u001b[0;34m:\u001b[0m\u001b[0;34m\u001b[0m\u001b[0;34m\u001b[0m\u001b[0m\n\u001b[0;32m--> 101\u001b[0;31m       \u001b[0mtime\u001b[0m\u001b[0;34m.\u001b[0m\u001b[0msleep\u001b[0m\u001b[0;34m(\u001b[0m\u001b[0;36m0.025\u001b[0m\u001b[0;34m)\u001b[0m\u001b[0;34m\u001b[0m\u001b[0;34m\u001b[0m\u001b[0m\n\u001b[0m\u001b[1;32m    102\u001b[0m       \u001b[0;32mcontinue\u001b[0m\u001b[0;34m\u001b[0m\u001b[0;34m\u001b[0m\u001b[0m\n\u001b[1;32m    103\u001b[0m     if (reply.get('type') == 'colab_reply' and\n",
            "\u001b[0;31mKeyboardInterrupt\u001b[0m: "
          ]
        }
      ]
    }
  ]
}