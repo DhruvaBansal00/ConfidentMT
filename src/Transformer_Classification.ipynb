{
 "cells": [
  {
   "cell_type": "markdown",
   "metadata": {
    "collapsed": true
   },
   "source": [
    "# Sentence Classification with Transformers\n",
    "In this exercise you will implement a [Transformer](https://arxiv.org/pdf/1706.03762.pdf) and use it to judge the grammaticality of English sentences.\n",
    "\n",
    "**A quick note: if you receive the following TypeError \"super(type, obj): obj must be an instance or subtype of type\", try restarting your kernel and re-running all cells.** Once you have finished making changes to the model constuctor, you can avoid this issue by commenting out all of the model instantiations after the first (e.g. lines starting with \"model = ClassificationTransformer\")."
   ]
  },
  {
   "cell_type": "code",
   "execution_count": 166,
   "metadata": {},
   "outputs": [],
   "source": [
    "import numpy as np\n",
    "import csv\n",
    "import torch\n",
    "from transformer import ClassificationTransformer\n",
    "\n",
    "# for auto-reloading external modules\n",
    "# see http://stackoverflow.com/questions/1907993/autoreload-of-modules-in-ipython"
   ]
  },
  {
   "cell_type": "markdown",
   "metadata": {},
   "source": [
    "## The Corpus of Linguistic Acceptability (CoLA)\n",
    "\n",
    "The Corpus of Linguistic Acceptability ([CoLA](https://nyu-mll.github.io/CoLA/)) in its full form consists of 10657 sentences from 23 linguistics publications, expertly annotated for acceptability (grammaticality) by their original authors. Native English speakers consistently report a sharp contrast in acceptability between pairs of sentences. \n",
    "Some examples include:\n",
    "\n",
    "`What did Betsy paint a picture of?` (Correct)\n",
    "\n",
    "`What was a picture of painted by Betsy?` (Incorrect)\n",
    "\n",
    "You can read more info about the dataset [here](https://arxiv.org/pdf/1805.12471.pdf). This is a binary classification task (predict 1 for correct grammar and 0 otherwise).\n",
    "\n",
    "Can we train a neural network to accurately predict these human acceptability judgements? In this assignment, we will implement the forward pass of the Transformer architecture discussed in class. The general intuitive notion is that we will _encode_ the sequence of tokens in the sentence, and then predict a binary output based on the final state that is the output of the model."
   ]
  },
  {
   "cell_type": "markdown",
   "metadata": {},
   "source": [
    "## Load the preprocessed data\n",
    "\n",
    "We've appended a \"CLS\" token to the beginning of each sequence, which can be used to make predictions. The benefit of appending this token to the beginning of the sequence (rather than the end) is that we can extract it quite easily (we don't need to remove paddings and figure out the length of each individual sequence in the batch). We'll come back to this.\n",
    "\n",
    "We've additionally already constructed a vocabulary and converted all of the strings of tokens into integers which can be used for vocabulary lookup for you. Feel free to explore the data here."
   ]
  },
  {
   "cell_type": "code",
   "execution_count": 167,
   "metadata": {},
   "outputs": [
    {
     "output_type": "stream",
     "name": "stdout",
     "text": "Vocabulary Size: 1542\n(7000, 43)\n(1551, 43)\n(7000,)\n(1551,)\n[[   1    2    3 ... 1541 1541 1541]\n [  10   12    0 ... 1541 1541 1541]\n [  10   12    0 ... 1541 1541 1541]\n ...\n [ 162  409  104 ... 1541 1541 1541]\n [   8 1522   38 ... 1541 1541 1541]\n [   8 1522   38 ... 1541 1541 1541]]\n"
    }
   ],
   "source": [
    "train_inxs = np.load('../testDataset/datasets/train_inxs.npy')\n",
    "val_inxs = np.load('../testDataset/datasets/val_inxs.npy')\n",
    "train_labels = np.load('../testDataset/datasets/train_labels.npy')\n",
    "val_labels = np.load('../testDataset/datasets/val_labels.npy')\n",
    "\n",
    "# load dictionary\n",
    "word_to_ix = {}\n",
    "with open(\"../testDataset/datasets/word_to_ix.csv\", \"r\") as f:\n",
    "    reader = csv.reader(f)\n",
    "    for line in reader:\n",
    "        word_to_ix[line[0]] = line[1]\n",
    "print(\"Vocabulary Size:\", len(word_to_ix))\n",
    "        \n",
    "print(train_inxs.shape) # 7000 training instances, of (maximum/padded) length 43 words.\n",
    "print(val_inxs.shape) # 1551 validation instances, of (maximum/padded) length 43 words.\n",
    "print(train_labels.shape)\n",
    "print(val_labels.shape)\n",
    "print(train_inxs)\n",
    "\n",
    "# load checkers\n",
    "d1 = torch.load('../testDataset/datasets/d1.pt')\n",
    "d2 = torch.load('../testDataset/datasets/d2.pt')\n",
    "d3 = torch.load('../testDataset/datasets/d3.pt')\n",
    "d4 = torch.load('../testDataset/datasets/d4.pt')"
   ]
  },
  {
   "cell_type": "markdown",
   "metadata": {},
   "source": [
    "## Transformers\n",
    "\n",
    "We will be implementing a one-layer Transformer **encoder** which, similar to an RNN, can encode a sequence of inputs and produce a final output state for classification. This is the architecture:\n",
    "\n",
    "![imgs/encoder.png](imgs/encoder.png)\n",
    "\n",
    "\n",
    "You can refer to the [original paper](https://arxiv.org/pdf/1706.03762.pdf) for more details.\n",
    "\n",
    "Instead of using numpy for this model, we will be using Pytorch to implement the forward pass. You will not need to implement the backward pass for the various layers in this assigment.\n",
    "\n",
    "The file `gt_7643/transformer.py` contains the model class and methods for each layer. This is where you will write your implementations."
   ]
  },
  {
   "cell_type": "markdown",
   "metadata": {},
   "source": [
    "## Deliverable 1: Embeddings\n",
    "\n",
    "We will format our input embeddings similarly to how they are constructed in [BERT (source of figure)](https://arxiv.org/pdf/1810.04805.pdf). Recall from lecture that unlike a RNN, a Transformer does not include any positional information about the order in which the words in the sentence occur. Because of this, we need to append a positional encoding token at each position. (We will ignore the segment embeddings and [SEP] token here, since we are only encoding one sentence at a time). We have already appended the [CLS] token for you in the previous step.\n",
    "![imgs/embedding.png](imgs/embedding.png)\n",
    "\n",
    "Your first task is to implement the embedding lookup, including the addition of positional encodings. Open the file `gt_7643/transformer.py` and complete all code parts for `Deliverable 1`."
   ]
  },
  {
   "cell_type": "code",
   "execution_count": 168,
   "metadata": {},
   "outputs": [],
   "source": [
    "model = ClassificationTransformer(word_to_ix, hidden_dim=128, num_heads=2, dim_feedforward=2048, dim_k=96, \n",
    "                                  dim_v=96, dim_q=96, max_length=train_inxs.shape[1])"
   ]
  },
  {
   "cell_type": "code",
   "execution_count": 169,
   "metadata": {},
   "outputs": [
    {
     "output_type": "stream",
     "name": "stdout",
     "text": "Difference: 0.0017998494440689683\n"
    }
   ],
   "source": [
    "inputs = train_inxs[0:2]\n",
    "inputs = torch.LongTensor(inputs)\n",
    "\n",
    "embeds = model.embed(inputs)\n",
    "\n",
    "try:\n",
    "    print(\"Difference:\", torch.sum(torch.pairwise_distance(embeds, d1)).item()) # should be very small (<0.01)\n",
    "except:\n",
    "    print(\"NOT IMPLEMENTED\")"
   ]
  },
  {
   "cell_type": "markdown",
   "metadata": {},
   "source": [
    "## Deliverable 2: Multi-head Self-Attention\n",
    "\n",
    "Attention can be computed in matrix-form using the following formula:\n",
    "![imgs/attn.png](imgs/attn.png)\n",
    "\n",
    "We want to have multiple self-attention operations, computed in parallel. Each of these is called a *head*. We concatenate the heads and multiply them with the matrix `attention_head_projection` to produce the output of this layer.\n",
    "\n",
    "After every multi-head self-attention and feedforward layer, there is a residual connection + layer normalization. Make sure to implement this, using the following formula: \n",
    "![imgs/layer_norm.png](imgs/layer_norm.png)\n",
    "\n",
    "\n",
    "Open the file `gt_7643/transformer.py` and implement the `multihead_attention` function. \n",
    "We have already initialized all of the layers you will need in the constructor."
   ]
  },
  {
   "cell_type": "markdown",
   "metadata": {},
   "source": [
    "### hidden_states = model.multi_head_attention(embeds)\n",
    "\n",
    "try:\n",
    "    print(\"Difference:\", torch.sum(torch.pairwise_distance(hidden_states, d2)).item()) # should be very small (<0.01)\n",
    "except:\n",
    "    print(\"NOT IMPLEMENTED\")"
   ]
  },
  {
   "cell_type": "code",
   "execution_count": 170,
   "metadata": {},
   "outputs": [
    {
     "output_type": "stream",
     "name": "stdout",
     "text": "Outputs For Loop = tensor([[[-0.3771, -1.1467, -2.0995,  ...,  0.9696,  0.9097,  0.4216],\n         [ 0.0756,  0.0932,  0.0486,  ...,  1.1972, -1.1659, -0.1946],\n         [ 0.0150,  1.2614,  1.5895,  ..., -0.0174,  1.8849,  0.5268],\n         ...,\n         [ 1.6713,  0.2529,  0.5906,  ..., -0.7817,  2.2803,  0.5396],\n         [ 1.9252, -0.6892,  1.2710,  ..., -0.4321,  0.6582,  1.4264],\n         [-0.7143, -0.6609, -0.0183,  ..., -0.0291,  0.5226,  1.6581]],\n\n        [[ 0.0870, -0.2262, -0.8186,  ...,  0.5323, -1.9052,  0.9277],\n         [-0.3066,  1.7310, -0.5981,  ...,  1.3079, -1.5820, -1.2624],\n         [-0.7623,  0.1428,  0.5490,  ...,  1.8073,  1.6597,  2.3999],\n         ...,\n         [ 1.6616,  0.3300,  0.5902,  ..., -0.7677,  2.2880,  0.5579],\n         [ 1.9168, -0.6393,  1.3020,  ..., -0.3595,  0.6284,  1.3772],\n         [-0.6979, -0.6479,  0.0150,  ...,  0.0272,  0.5380,  1.6306]]],\n       grad_fn=<NativeLayerNormBackward>)\nOutputs no loop = tensor([[[-0.4551, -1.7019, -2.2878,  ...,  0.6899,  0.7388,  0.2316],\n         [ 0.0806, -0.4523, -0.2147,  ...,  0.9532, -1.2754, -0.4555],\n         [ 0.0141,  0.8559,  1.3565,  ..., -0.1316,  1.8458,  0.4679],\n         ...,\n         [ 1.6388,  0.0424,  0.5359,  ..., -1.0417,  2.2172,  0.5947],\n         [ 1.9497, -0.8853,  1.2458,  ..., -0.7353,  0.5691,  1.3992],\n         [-0.7786, -0.9659, -0.0452,  ..., -0.2591,  0.5168,  1.7414]],\n\n        [[ 0.0136, -0.8689, -0.9987,  ...,  0.3188, -2.0744,  0.7333],\n         [-0.2029,  1.1569, -0.8242,  ...,  1.0906, -1.6122, -1.3889],\n         [-0.8158, -0.4040,  0.4001,  ...,  1.6477,  1.5343,  2.3024],\n         ...,\n         [ 1.6154,  0.0540,  0.5049,  ..., -1.0520,  2.1851,  0.5578],\n         [ 1.9333, -0.9200,  1.2220,  ..., -0.7518,  0.5239,  1.3446],\n         [-0.7493, -1.0256, -0.0599,  ..., -0.2857,  0.4782,  1.7033]]],\n       grad_fn=<NativeLayerNormBackward>)\nDifference: 369.0250244140625\n"
    }
   ],
   "source": [
    "hidden_states = model.multi_head_attention(embeds)\n",
    "\n",
    "\n",
    "try: \n",
    "    print(\"hidden States = \"+str(hidden_states))\n",
    "    print(\"Difference:\", torch.sum(torch.pairwise_distance(hidden_states, d2)).item()) # should be very small (<0.01) \n",
    "\n",
    "except:\n",
    "    print(\"NOT IMPLEMENTED\")"
   ]
  },
  {
   "cell_type": "markdown",
   "metadata": {},
   "source": [
    "## Deliverable 3: Element-Wise Feed-forward Layer\n",
    "\n",
    "Open the file `gt_7643/transformer.py` and complete code for `Deliverable 3`: the element-wise feed-forward layer consisting of two linear transformers with a ReLU layer in between.\n",
    "\n",
    "![imgs/ffn.png](imgs/ffn.png)\n"
   ]
  },
  {
   "cell_type": "code",
   "execution_count": 6,
   "metadata": {},
   "outputs": [
    {
     "name": "stdout",
     "output_type": "stream",
     "text": [
      "Difference: 0.0017147620674222708\n"
     ]
    }
   ],
   "source": [
    "outputs = model.feedforward_layer(hidden_states)\n",
    "\n",
    "try:\n",
    "    print(\"Difference:\", torch.sum(torch.pairwise_distance(outputs, d3)).item()) # should be very small (<0.01)\n",
    "except:\n",
    "    print(\"NOT IMPLEMENTED\")"
   ]
  },
  {
   "cell_type": "markdown",
   "metadata": {},
   "source": [
    "## Deliverable 4: Final Layer\n",
    "\n",
    "Open the file `gt_7643/transformer.py` and complete code for `Deliverable 4`, to produce binary classification scores for the inputs based on the output of the Transformer."
   ]
  },
  {
   "cell_type": "code",
   "execution_count": 7,
   "metadata": {},
   "outputs": [
    {
     "name": "stdout",
     "output_type": "stream",
     "text": [
      "Difference: 1.8956918665935518e-06\n"
     ]
    }
   ],
   "source": [
    "\n",
    "scores = model.final_layer(outputs)\n",
    "\n",
    "try:\n",
    "    print(\"Difference:\", torch.sum(torch.pairwise_distance(scores, d4)).item()) # should be very small (<1e-5)\n",
    "except:\n",
    "    print(\"NOT IMPLEMENTED\")"
   ]
  },
  {
   "cell_type": "markdown",
   "metadata": {},
   "source": [
    "## Deliverable 5: Putting it all together\n",
    "\n",
    "Open the file `gt_7643/transformer.py` and complete the method `forward`, by putting together all of the methods you have developed in the right order to perform a full forward pass.\n"
   ]
  },
  {
   "cell_type": "code",
   "execution_count": 8,
   "metadata": {},
   "outputs": [
    {
     "name": "stdout",
     "output_type": "stream",
     "text": [
      "Difference: 1.9999999949504854e-06\n"
     ]
    }
   ],
   "source": [
    "inputs = train_inxs[0:2]\n",
    "inputs = torch.LongTensor(inputs)\n",
    "\n",
    "outputs = model.forward(inputs)\n",
    "\n",
    "try:\n",
    "    print(\"Difference:\", torch.sum(torch.pairwise_distance(outputs, scores)).item()) # should be very small (<1e-5)\n",
    "except:\n",
    "    print(\"NOT IMPLEMENTED\")"
   ]
  },
  {
   "cell_type": "markdown",
   "metadata": {},
   "source": [
    "Great! We've just implemented a Transformer forward pass for text classification. One of the big perks of using PyTorch is that with a simple training loop, we can rely on automatic differentation ([autograd](https://pytorch.org/tutorials/beginner/blitz/autograd_tutorial.html)) to do the work of the backward pass for us. This is not required for this assignment, but you can explore this on your own.\n",
    "\n",
    "Make sure when you submit your PDF for this assignment to also include a copy of `transformer.py` converted to PDF as well."
   ]
  }
 ],
 "metadata": {
  "kernelspec": {
   "display_name": "Python 3",
   "language": "python",
   "name": "python3"
  },
  "language_info": {
   "codemirror_mode": {
    "name": "ipython",
    "version": 3
   },
   "file_extension": ".py",
   "mimetype": "text/x-python",
   "name": "python",
   "nbconvert_exporter": "python",
   "pygments_lexer": "ipython3",
   "version": "3.6.9"
  },
  "widgets": {
   "state": {},
   "version": "1.0.0"
  }
 },
 "nbformat": 4,
 "nbformat_minor": 1
}