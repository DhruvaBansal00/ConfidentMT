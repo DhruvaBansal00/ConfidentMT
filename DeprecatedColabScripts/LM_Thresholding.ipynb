{
  "nbformat": 4,
  "nbformat_minor": 0,
  "metadata": {
    "colab": {
      "name": "LM_Thresholding.ipynb",
      "provenance": [],
      "collapsed_sections": [],
      "include_colab_link": true
    },
    "kernelspec": {
      "name": "python3",
      "display_name": "Python 3"
    }
  },
  "cells": [
    {
      "cell_type": "markdown",
      "metadata": {
        "id": "view-in-github",
        "colab_type": "text"
      },
      "source": [
        "<a href=\"https://colab.research.google.com/github/DhruvaBansal00/ConfidentMT/blob/master/LM_Thresholding.ipynb\" target=\"_parent\"><img src=\"https://colab.research.google.com/assets/colab-badge.svg\" alt=\"Open In Colab\"/></a>"
      ]
    },
    {
      "cell_type": "code",
      "metadata": {
        "id": "ZGo7SSvz9-0j",
        "colab_type": "code",
        "outputId": "0c133b9c-8f13-4397-a918-b4c2319d9b16",
        "colab": {
          "base_uri": "https://localhost:8080/",
          "height": 496
        }
      },
      "source": [
        "pip install fairseq sacrebleu sentencepiece"
      ],
      "execution_count": 0,
      "outputs": [
        {
          "output_type": "stream",
          "text": [
            "Collecting fairseq\n",
            "  Using cached https://files.pythonhosted.org/packages/67/bf/de299e082e7af010d35162cb9a185dc6c17db71624590f2f379aeb2519ff/fairseq-0.9.0.tar.gz\n",
            "Collecting sacrebleu\n",
            "  Using cached https://files.pythonhosted.org/packages/98/f6/21311ebe1af3e2e6d959cc5ce69e09cae6b6267bbd6db294fcd8744316f6/sacrebleu-1.4.8-py3-none-any.whl\n",
            "Collecting sentencepiece\n",
            "  Using cached https://files.pythonhosted.org/packages/98/2c/8df20f3ac6c22ac224fff307ebc102818206c53fc454ecd37d8ac2060df5/sentencepiece-0.1.86-cp36-cp36m-manylinux1_x86_64.whl\n",
            "Requirement already satisfied: cffi in /usr/local/lib/python3.6/dist-packages (from fairseq) (1.14.0)\n",
            "Requirement already satisfied: cython in /usr/local/lib/python3.6/dist-packages (from fairseq) (0.29.17)\n",
            "Requirement already satisfied: numpy in /usr/local/lib/python3.6/dist-packages (from fairseq) (1.18.3)\n",
            "Requirement already satisfied: regex in /usr/local/lib/python3.6/dist-packages (from fairseq) (2019.12.20)\n",
            "Requirement already satisfied: torch in /usr/local/lib/python3.6/dist-packages (from fairseq) (1.5.0+cu101)\n",
            "Requirement already satisfied: tqdm in /usr/local/lib/python3.6/dist-packages (from fairseq) (4.38.0)\n",
            "Collecting mecab-python3\n",
            "\u001b[?25l  Downloading https://files.pythonhosted.org/packages/18/49/b55a839a77189042960bf96490640c44816073f917d489acbc5d79fa5cc3/mecab_python3-0.996.5-cp36-cp36m-manylinux2010_x86_64.whl (17.1MB)\n",
            "\u001b[K     |████████████████████████████████| 17.1MB 1.3MB/s \n",
            "\u001b[?25hRequirement already satisfied: typing in /usr/local/lib/python3.6/dist-packages (from sacrebleu) (3.6.6)\n",
            "Collecting portalocker\n",
            "  Downloading https://files.pythonhosted.org/packages/53/84/7b3146ec6378d28abc73ab484f09f47dfa008ad6f03f33d90a369f880e25/portalocker-1.7.0-py2.py3-none-any.whl\n",
            "Requirement already satisfied: pycparser in /usr/local/lib/python3.6/dist-packages (from cffi->fairseq) (2.20)\n",
            "Requirement already satisfied: future in /usr/local/lib/python3.6/dist-packages (from torch->fairseq) (0.16.0)\n",
            "Building wheels for collected packages: fairseq\n",
            "  Building wheel for fairseq (setup.py) ... \u001b[?25l\u001b[?25hdone\n",
            "  Created wheel for fairseq: filename=fairseq-0.9.0-cp36-cp36m-linux_x86_64.whl size=2035386 sha256=6144c9c46516f376abd68a3cbc8f1775c7fe66c660c6c4b2a1846aeb837ee654\n",
            "  Stored in directory: /root/.cache/pip/wheels/37/3e/1b/0fa30695dcba41e4b0088067fa40f3328d1e8ee78c22cd4766\n",
            "Successfully built fairseq\n",
            "Installing collected packages: mecab-python3, portalocker, sacrebleu, fairseq, sentencepiece\n",
            "Successfully installed fairseq-0.9.0 mecab-python3-0.996.5 portalocker-1.7.0 sacrebleu-1.4.8 sentencepiece-0.1.86\n"
          ],
          "name": "stdout"
        }
      ]
    },
    {
      "cell_type": "code",
      "metadata": {
        "id": "_q0GWt8XBxO-",
        "colab_type": "code",
        "outputId": "7cfb44ae-0f19-4c2b-df11-3865e9a0eeae",
        "colab": {
          "base_uri": "https://localhost:8080/",
          "height": 122
        }
      },
      "source": [
        "from google.colab import drive\n",
        "drive.mount('/content/drive')"
      ],
      "execution_count": 0,
      "outputs": [
        {
          "output_type": "stream",
          "text": [
            "Go to this URL in a browser: https://accounts.google.com/o/oauth2/auth?client_id=947318989803-6bn6qk8qdgf4n4g3pfee6491hc0brc4i.apps.googleusercontent.com&redirect_uri=urn%3aietf%3awg%3aoauth%3a2.0%3aoob&response_type=code&scope=email%20https%3a%2f%2fwww.googleapis.com%2fauth%2fdocs.test%20https%3a%2f%2fwww.googleapis.com%2fauth%2fdrive%20https%3a%2f%2fwww.googleapis.com%2fauth%2fdrive.photos.readonly%20https%3a%2f%2fwww.googleapis.com%2fauth%2fpeopleapi.readonly\n",
            "\n",
            "Enter your authorization code:\n",
            "··········\n",
            "Mounted at /content/drive\n"
          ],
          "name": "stdout"
        }
      ]
    },
    {
      "cell_type": "code",
      "metadata": {
        "id": "-G2XU4bfB6rd",
        "colab_type": "code",
        "outputId": "aaafcce4-18eb-459a-d328-b3766f709151",
        "colab": {
          "base_uri": "https://localhost:8080/",
          "height": 170
        }
      },
      "source": [
        "!ls\n",
        "%cd drive/My Drive/ConfidentMachineTranslation/flores\n",
        "!ls\n",
        "!pwd"
      ],
      "execution_count": 0,
      "outputs": [
        {
          "output_type": "stream",
          "text": [
            "drive  sample_data\n",
            "/content/drive/.shortcut-targets-by-id/1viBwZM7BIiD8O4LeU-9UQXyV82oTWqh6/ConfidentMachineTranslation/flores\n",
            " analysis\t   data-bin\t\t        LM_Thresholding.ipynb\n",
            " Analysis\t   Ensembles\t\t        NCD_Analysis.ipynb\n",
            " backward_models   Ensembling\t\t        noisychannel\n",
            " checkpoints\t   FLORES.ipynb\t\t        NoisyChannel.ipynb\n",
            " configs\t   language_models\t        Resources\n",
            " data\t\t  'LM_Thresholding (1).ipynb'   scripts\n",
            "/content/drive/.shortcut-targets-by-id/1viBwZM7BIiD8O4LeU-9UQXyV82oTWqh6/ConfidentMachineTranslation/flores\n"
          ],
          "name": "stdout"
        }
      ]
    },
    {
      "cell_type": "code",
      "metadata": {
        "id": "nQEVjMhN_a0_",
        "colab_type": "code",
        "colab": {}
      },
      "source": [
        "from statistics import mean, median \n",
        "\n",
        "bleu_res = open(\"analysis/testSet_BLEU.txt\", \"r\")\n",
        "NMT_ground_truth = open(\"analysis/ground_truth_sentences.txt\", \"w\")\n",
        "NMT_output = open(\"analysis/translated_sentences.txt\", \"w\")\n",
        "Sentence_stats = open(\"analysis/logprob_statistics.txt\", \"w\")\n",
        "\n",
        "for line in bleu_res:\n",
        "    if line.startswith(\"H-\"):\n",
        "        NMT_output.write(line.split(\"\t\")[2])\n",
        "    elif line.startswith(\"T-\"):\n",
        "        NMT_ground_truth.write(line.split(\"\t\")[1])\n",
        "    elif line.startswith(\"P-\"):\n",
        "        scores = [float(i) for i in line.split(\"\\t\")[1].split(\" \")]\n",
        "        Sentence_stats.write(str(mean(scores))+\" \"+str(min(scores))+\" \"+str(median(scores))+\" \"+str(max(scores))+\"\\n\")\n",
        "\n",
        "NMT_ground_truth.close()\n",
        "NMT_output.close()\n",
        "Sentence_stats.close()"
      ],
      "execution_count": 0,
      "outputs": []
    },
    {
      "cell_type": "code",
      "metadata": {
        "id": "RkLpfqul_cw1",
        "colab_type": "code",
        "colab": {}
      },
      "source": [
        "!fairseq-score --sys analysis/translated_sentences.txt --ref analysis/ground_truth_sentences.txt --sentence-bleu > analysis/scores.txt"
      ],
      "execution_count": 0,
      "outputs": []
    },
    {
      "cell_type": "code",
      "metadata": {
        "id": "Br1zyjh2_ezA",
        "colab_type": "code",
        "outputId": "7a616050-4ee2-40d0-e952-255b29f97dcb",
        "colab": {
          "base_uri": "https://localhost:8080/",
          "height": 607
        }
      },
      "source": [
        "from itertools import zip_longest\n",
        "import matplotlib.pyplot as plt\n",
        "from sklearn.metrics import auc\n",
        "\n",
        "class Translation:\n",
        "    def __init__ (self, ref, out, score):\n",
        "        self.reference = ref\n",
        "        self.translation = out\n",
        "        self.score = score\n",
        "    def __repr__(self):\n",
        "        return str(self.score)\n",
        "\n",
        "def compute_excluded_included_score (translations, split_index):\n",
        "    included_sum = 0\n",
        "    excluded_sum = 0\n",
        "\n",
        "    for index in range(0, len(translations)):\n",
        "        if index < split_index:\n",
        "            excluded_sum += translations[index].score\n",
        "        else:\n",
        "            included_sum += translations[index].score\n",
        "    included_score = 0 if split_index == len(translations) - 1 else included_sum/(len(translations) - split_index)\n",
        "    excluded_score = 0 if split_index == 0 else excluded_sum/(split_index)\n",
        "    return excluded_score, included_score\n",
        "\n",
        "NMT_ground_truth = open(\"analysis/ground_truth_sentences.txt\", \"r\")\n",
        "NMT_output = open(\"analysis/translated_sentences.txt\", \"r\")\n",
        "Sentence_bleu = open(\"analysis/scores.txt\", \"r\")\n",
        "\n",
        "files = [NMT_ground_truth, NMT_output, Sentence_bleu]\n",
        "next(Sentence_bleu)\n",
        "translations = []\n",
        "\n",
        "for lines in zip_longest(*files, fillvalue=''):\n",
        "    reference, translation, score = lines\n",
        "    score = float(score.split(\"BLEU4 = \")[1].split(\",\")[0])\n",
        "    translations.append(Translation(reference, translation, score))\n",
        "\n",
        "translations.sort(key=lambda x: x.score, reverse=False)\n",
        "\n",
        "inclusion_scores = []\n",
        "exclusion_scores = []\n",
        "fraction_included = []\n",
        "fraction_excluded = []\n",
        "\n",
        "include_graph = True\n",
        "\n",
        "for split_index in range(0, len(translations)-1):\n",
        "    # if (translations[split_index].score == 0.0):\n",
        "    #     print(translations[split_index].reference)\n",
        "    #     print(translations[split_index].translation)\n",
        "    exclusion, inclusion = compute_excluded_included_score(translations, split_index)\n",
        "    inclusion_scores.append(inclusion)\n",
        "    exclusion_scores.append(exclusion)\n",
        "    fraction_included.append((len(translations) - split_index)/len(translations))\n",
        "    fraction_excluded.append(split_index/len(translations))\n",
        "\n",
        "  \n",
        "plt.scatter(fraction_included, inclusion_scores, color= \"blue\")\n",
        "plt.xlabel('Included Fraction') \n",
        "plt.ylabel('Average Sentence level BLEU score') \n",
        "plt.title('BLEU vs Fractional dataset') \n",
        "plt.show() \n",
        "\n",
        "print('AUC for incuded fraction: {}'.format(auc(fraction_included, inclusion_scores)))\n",
        "\n",
        "plt.scatter(fraction_excluded, exclusion_scores, color= \"red\")\n",
        "plt.xlabel('Excluded Fraction') \n",
        "plt.ylabel('Average Sentence level BLEU score') \n",
        "plt.title('BLEU vs Fractional dataset') \n",
        "plt.show()  \n",
        "\n",
        "print('AUC for excluded fraction: {}'.format(auc(fraction_excluded, exclusion_scores)))\n",
        "\n",
        "NMT_ground_truth.close()\n",
        "NMT_output.close()\n",
        "Sentence_bleu.close()"
      ],
      "execution_count": 0,
      "outputs": [
        {
          "output_type": "display_data",
          "data": {
            "image/png": "[encoded data removed]",
            "text/plain": [
              "<Figure size 432x288 with 1 Axes>"
            ]
          },
          "metadata": {
            "tags": [],
            "needs_background": "light"
          }
        },
        {
          "output_type": "stream",
          "text": [
            "AUC for incuded fraction: 20.396594958586256\n"
          ],
          "name": "stdout"
        },
        {
          "output_type": "display_data",
          "data": {
            "image/png": "[encoded data removed]",
            "text/plain": [
              "<Figure size 432x288 with 1 Axes>"
            ]
          },
          "metadata": {
            "tags": [],
            "needs_background": "light"
          }
        },
        {
          "output_type": "stream",
          "text": [
            "AUC for excluded fraction: 7.857580585056041\n"
          ],
          "name": "stdout"
        }
      ]
    },
    {
      "cell_type": "code",
      "metadata": {
        "id": "EDEk2-h8_lw8",
        "colab_type": "code",
        "colab": {}
      },
      "source": [
        "from itertools import zip_longest\n",
        "import matplotlib.pyplot as plt\n",
        "from sklearn.metrics import auc\n",
        "from numpy import arange\n",
        "import subprocess\n",
        "import random\n",
        "import numpy as np\n",
        "\n",
        "\n",
        "class Translation:\n",
        "    def __init__ (self, ref, out, score):\n",
        "        self.reference = ref\n",
        "        self.translation = out\n",
        "        self.score = score\n",
        "    def __repr__(self):\n",
        "        return str(self.score)\n",
        "\n",
        "def compute_excluded_included_score (translations, split_index):\n",
        "    temporary_reference_inclusion = open(\"analysis/temporary_reference_inclusion.txt\", \"w\")\n",
        "    temporary_output_inclusion = open(\"analysis/temporary_output_inclusion.txt\", \"w\")\n",
        "\n",
        "    temporary_reference_exclusion = open(\"analysis/temporary_reference_exclusion.txt\", \"w\")\n",
        "    temporary_output_exclusion = open(\"analysis/temporary_output_exclusion.txt\", \"w\")\n",
        "\n",
        "    for i in range(len(translations)):\n",
        "        if i < split_index:\n",
        "            temporary_reference_exclusion.write(translations[i].reference)\n",
        "            temporary_output_exclusion.write(translations[i].translation)\n",
        "        else:\n",
        "            temporary_reference_inclusion.write(translations[i].reference)\n",
        "            temporary_output_inclusion.write(translations[i].translation)\n",
        "\n",
        "    temporary_reference_inclusion.close()\n",
        "    temporary_output_inclusion.close()\n",
        "    temporary_reference_exclusion.close()\n",
        "    temporary_output_exclusion.close()\n",
        "\n",
        "    !fairseq-score --sys analysis/temporary_output_inclusion.txt --ref analysis/temporary_reference_inclusion.txt --sacrebleu > analysis/inclusion_result.txt\n",
        "    !fairseq-score --sys analysis/temporary_output_exclusion.txt --ref analysis/temporary_reference_exclusion.txt --sacrebleu > analysis/exclusion_result.txt\n",
        "\n",
        "    temporary_inclusion_result = open(\"analysis/inclusion_result.txt\")\n",
        "    temporary_exclusion_result = open(\"analysis/exclusion_result.txt\")\n",
        "    inclusion_result_string = [line for line in temporary_inclusion_result][1].split(\" \")[2]\n",
        "    exclusion_result_string = [line for line in temporary_exclusion_result][1].split(\" \")[2]\n",
        "\n",
        "    return float(exclusion_result_string), float(inclusion_result_string)\n",
        "\n",
        "\n",
        "NMT_ground_truth = open(\"analysis/ground_truth_sentences.txt\", \"r\")\n",
        "NMT_output = open(\"analysis/translated_sentences.txt\", \"r\")\n",
        "Sentence_stats = open(\"analysis/logprob_statistics.txt\", \"r\")\n",
        "Sentence_bleu = open(\"analysis/scores.txt\", \"r\")\n",
        "\n",
        "next(Sentence_bleu)\n",
        "files = [NMT_ground_truth, NMT_output, Sentence_stats, Sentence_bleu]\n",
        "translations = []\n",
        "\n",
        "for lines in zip_longest(*files, fillvalue=''):\n",
        "    reference, translation, stats, sentence_bleu = lines\n",
        "    sentence_bleu = float(sentence_bleu.split(\"BLEU4 = \")[1].split(\",\")[0])\n",
        "    stats = [float(i) for i in stats.strip(\"\\n\").split(\" \")]\n",
        "    stats.append(sentence_bleu)\n",
        "    translations.append(Translation(reference, translation, stats))\n",
        "\n",
        "stats_for_thresholding = [0,1,2,3,4] #average per token, min, median, max, sentence_bleu\n",
        "num_to_thresh = {0:\"Average logprob thresholding\", 1: \"Min logprob thresholding\", 2:\"Median logprob thresholding\", 3:\"Max logprob thresholding\", 4:\"Sentence-level BLEU thresholding\"}\n",
        "all_inclusion_scores = []\n",
        "all_fractions_included = []\n",
        "\n",
        "for stat in stats_for_thresholding:\n",
        "    translations.sort(key=lambda x: x.score[stat], reverse=False)\n",
        "    # print(\"Worst reference: \" +translations[0].reference+\" Worst translation: \"+translations[0].translation)\n",
        "    thresholds = []\n",
        "\n",
        "\n",
        "    ##25 good thresholds for each case\n",
        "    if stat == 0:\n",
        "        thresholds = np.linspace(-1.5, 0, 25).tolist()\n",
        "    elif stat == 1:\n",
        "        thresholds = np.linspace(-3.5, 0, 25).tolist()\n",
        "    elif stat == 2:\n",
        "        thresholds = np.linspace(-1.5, 0, 25).tolist()\n",
        "    elif stat == 3:\n",
        "        thresholds = np.linspace(-0.1, 0, 25).tolist() \n",
        "    elif stat == 4:\n",
        "        thresholds = np.linspace(0, 70, 25).tolist()\n",
        "\n",
        "    inclusion_scores = []\n",
        "    exclusion_scores = []\n",
        "    fraction_included = []\n",
        "    fraction_excluded = []\n",
        "\n",
        "    for threshold in thresholds:\n",
        "        split_index = 1 ## We always start at 1% so that the exclusion set is never empty. \n",
        "        while split_index < 0.99*len(translations) and translations[split_index].score[stat] < threshold:  ##0.99*len(translations) - to make sure the inclusion set always has a good number of examples\n",
        "            split_index += 1\n",
        "        exclusion, inclusion = compute_excluded_included_score(translations, split_index)\n",
        "        inclusion_scores.append(inclusion)\n",
        "        exclusion_scores.append(exclusion)\n",
        "        fraction_included.append((len(translations) - split_index)/len(translations))\n",
        "        fraction_excluded.append(split_index/len(translations))\n",
        "    \n",
        "    all_inclusion_scores.append(inclusion_scores)\n",
        "    all_fractions_included.append(fraction_included)"
      ],
      "execution_count": 0,
      "outputs": []
    },
    {
      "cell_type": "code",
      "metadata": {
        "id": "OhpwM-dZB-KI",
        "colab_type": "code",
        "outputId": "ca04d0fd-8ef3-485b-c162-6e813d897165",
        "colab": {
          "base_uri": "https://localhost:8080/",
          "height": 51
        }
      },
      "source": [
        "#Read LM_Scores file into an ordered list of floats\n",
        "lm_scores = open(\"noisychannel/rerank_data/ncd_without_ensembling/nbest_5_subset_test_fw_name_ne-en_shard_0_of_1/lm_scores\", \"r\")\n",
        "lm_scores_list = []\n",
        "for line in lm_scores:\n",
        "  lm_scores_list.append(float(line[:-1]))\n",
        "print(\"min val: \", min(lm_scores_list))\n",
        "print(\"max val: \", max(lm_scores_list))\n",
        "lower_bound = min(lm_scores_list)\n",
        "upper_bound = max(lm_scores_list)"
      ],
      "execution_count": 0,
      "outputs": [
        {
          "output_type": "stream",
          "text": [
            "min val:  -454.796458\n",
            "max val:  -46.785695\n"
          ],
          "name": "stdout"
        }
      ]
    },
    {
      "cell_type": "code",
      "metadata": {
        "id": "hv33xJZnB-4D",
        "colab_type": "code",
        "colab": {}
      },
      "source": [
        "from itertools import zip_longest\n",
        "\n",
        "class Translation:\n",
        "    def __init__ (self, ref, out):\n",
        "        self.reference = ref\n",
        "        self.translation = out\n",
        "\n",
        "def get_sentence_pairs():\n",
        "  NCD_ground_truth = open(\"noisychannel/rerank_data/ncd_without_ensembling/nbest_5_subset_test_fw_name_ne-en_shard_0_of_1/matched_targets\", \"r\")\n",
        "  NCD_output = open(\"noisychannel/rerank_data/ncd_without_ensembling/nbest_5_subset_test_fw_name_ne-en_shard_0_of_1/matched_hypos\", \"r\")\n",
        "  files = [NCD_ground_truth, NCD_output]\n",
        "  translations = []\n",
        "  for lines in zip_longest(*files, fillvalue=''):\n",
        "    reference, translation = lines\n",
        "    translations.append(Translation(reference, translation))\n",
        "  return translations\n",
        "\n",
        "def compute_excluded_included_score(translations, thresh):\n",
        "  temporary_reference_inclusion = open(\"analysis/temporary_reference_inclusion.txt\", \"w\")\n",
        "  temporary_output_inclusion = open(\"analysis/temporary_output_inclusion.txt\", \"w\")\n",
        "\n",
        "  temporary_reference_exclusion = open(\"analysis/temporary_reference_exclusion.txt\", \"w\")\n",
        "  temporary_output_exclusion = open(\"analysis/temporary_output_exclusion.txt\", \"w\")\n",
        "\n",
        "  num_exc = 0\n",
        "  for i, lm in enumerate(lm_scores_list):\n",
        "    if lm < thresh:\n",
        "      temporary_reference_exclusion.write(translations[i].reference)\n",
        "      temporary_output_exclusion.write(translations[i].translation)\n",
        "      num_exc += 1\n",
        "    else:\n",
        "      temporary_reference_inclusion.write(translations[i].reference)\n",
        "      temporary_output_inclusion.write(translations[i].translation)\n",
        "  temporary_reference_inclusion.close()\n",
        "  temporary_output_inclusion.close()\n",
        "  temporary_reference_exclusion.close()\n",
        "  temporary_output_exclusion.close()\n",
        "\n",
        "  !fairseq-score --sys analysis/temporary_output_inclusion.txt --ref analysis/temporary_reference_inclusion.txt --sacrebleu > analysis/inclusion_result.txt\n",
        "  !fairseq-score --sys analysis/temporary_output_exclusion.txt --ref analysis/temporary_reference_exclusion.txt --sacrebleu > analysis/exclusion_result.txt\n",
        "\n",
        "  temporary_inclusion_result = open(\"analysis/inclusion_result.txt\")\n",
        "  temporary_exclusion_result = open(\"analysis/exclusion_result.txt\")\n",
        "  inclusion_result_string = [line for line in temporary_inclusion_result]\n",
        "  if len(inclusion_result_string) > 1:\n",
        "    inclusion_result_string = float(inclusion_result_string[1].split(\" \")[2])\n",
        "  else:\n",
        "    inclusion_result_string = float(0)\n",
        "  exclusion_result_string = [line for line in temporary_exclusion_result]\n",
        "  if len(exclusion_result_string) > 1:\n",
        "    exclusion_result_string = float(exclusion_result_string[1].split(\" \")[2])\n",
        "  else:\n",
        "    exclusion_result_string = float(0)\n",
        "  return exclusion_result_string, inclusion_result_string, num_exc\n"
      ],
      "execution_count": 0,
      "outputs": []
    },
    {
      "cell_type": "code",
      "metadata": {
        "id": "MIDXdcZLB-uv",
        "colab_type": "code",
        "outputId": "2bbb3d9e-ff23-4fb8-bf2c-bf7d0520af13",
        "colab": {
          "base_uri": "https://localhost:8080/",
          "height": 1000
        }
      },
      "source": [
        "from numpy import arange\n",
        "import matplotlib.pyplot as plt\n",
        "from sklearn.metrics import auc\n",
        "\n",
        "translations = get_sentence_pairs()\n",
        "thresholds = [i for i in arange(lower_bound+1, upper_bound-1, (upper_bound-lower_bound-2)/25)]\n",
        "print(len(thresholds))\n",
        "\n",
        "inclusion_scores = []\n",
        "exclusion_scores = []\n",
        "fraction_included = []\n",
        "fraction_excluded = []\n",
        "\n",
        "for thresh in thresholds:\n",
        "  exc, inc, num_exc = compute_excluded_included_score(translations, thresh)\n",
        "  print(\"BLEU SCORES AT LM THRESHOLD VALUE: \", thresh)\n",
        "  print(\"Excluded BLEU: \", exc)\n",
        "  print(\"Included BLEU: \", inc,\"\\n\")\n",
        "  inclusion_scores.append(inc)\n",
        "  exclusion_scores.append(exc)\n",
        "  fraction_included.append((len(translations) - num_exc)/len(translations))\n",
        "  fraction_excluded.append(num_exc/len(translations))\n",
        "all_inclusion_scores.append(inclusion_scores)\n",
        "all_fractions_included.append(fraction_included)\n",
        "#########################   PLOTING   ################################\n",
        "plt.scatter(fraction_included, inclusion_scores, color= \"blue\")\n",
        "plt.xlabel('Fraction Above Threshold') \n",
        "plt.ylabel('BLEU score (corpus)') \n",
        "plt.title('BLEU vs Fractional dataset (LM Score Thresholding)') \n",
        "plt.show() \n",
        "\n",
        "print('AUC for incuded fraction: {}'.format(auc(fraction_included, inclusion_scores)))\n",
        "\n",
        "plt.scatter(fraction_excluded, exclusion_scores, color= \"red\")\n",
        "plt.xlabel('Fraction Below Threshold') \n",
        "plt.ylabel('BLEU score (corpus)') \n",
        "plt.title('BLEU vs Fractional dataset (LM Score Thresholding)') \n",
        "plt.show()  \n",
        "\n",
        "print('AUC for excluded fraction: {}'.format(auc(fraction_excluded, exclusion_scores)))\n",
        "####################################################################\n"
      ],
      "execution_count": 0,
      "outputs": [
        {
          "output_type": "stream",
          "text": [
            "25\n",
            "BLEU SCORES AT LM THRESHOLD VALUE:  -453.796458\n",
            "Excluded BLEU:  1.53\n",
            "Included BLEU:  7.92 \n",
            "\n",
            "BLEU SCORES AT LM THRESHOLD VALUE:  -437.55602747999995\n",
            "Excluded BLEU:  0.78\n",
            "Included BLEU:  7.93 \n",
            "\n",
            "BLEU SCORES AT LM THRESHOLD VALUE:  -421.31559695999994\n",
            "Excluded BLEU:  0.64\n",
            "Included BLEU:  7.93 \n",
            "\n",
            "BLEU SCORES AT LM THRESHOLD VALUE:  -405.0751664399999\n",
            "Excluded BLEU:  1.0\n",
            "Included BLEU:  7.93 \n",
            "\n",
            "BLEU SCORES AT LM THRESHOLD VALUE:  -388.8347359199999\n",
            "Excluded BLEU:  0.88\n",
            "Included BLEU:  7.94 \n",
            "\n",
            "BLEU SCORES AT LM THRESHOLD VALUE:  -372.5943053999999\n",
            "Excluded BLEU:  0.88\n",
            "Included BLEU:  7.94 \n",
            "\n",
            "BLEU SCORES AT LM THRESHOLD VALUE:  -356.35387487999986\n",
            "Excluded BLEU:  1.05\n",
            "Included BLEU:  7.94 \n",
            "\n",
            "BLEU SCORES AT LM THRESHOLD VALUE:  -340.11344435999985\n",
            "Excluded BLEU:  4.14\n",
            "Included BLEU:  7.93 \n",
            "\n",
            "BLEU SCORES AT LM THRESHOLD VALUE:  -323.8730138399998\n",
            "Excluded BLEU:  3.96\n",
            "Included BLEU:  7.94 \n",
            "\n",
            "BLEU SCORES AT LM THRESHOLD VALUE:  -307.6325833199998\n",
            "Excluded BLEU:  4.9\n",
            "Included BLEU:  7.95 \n",
            "\n",
            "BLEU SCORES AT LM THRESHOLD VALUE:  -291.3921527999998\n",
            "Excluded BLEU:  3.98\n",
            "Included BLEU:  7.99 \n",
            "\n",
            "BLEU SCORES AT LM THRESHOLD VALUE:  -275.1517222799998\n",
            "Excluded BLEU:  5.01\n",
            "Included BLEU:  8.0 \n",
            "\n",
            "BLEU SCORES AT LM THRESHOLD VALUE:  -258.91129175999976\n",
            "Excluded BLEU:  6.95\n",
            "Included BLEU:  7.96 \n",
            "\n",
            "BLEU SCORES AT LM THRESHOLD VALUE:  -242.67086123999974\n",
            "Excluded BLEU:  6.32\n",
            "Included BLEU:  8.02 \n",
            "\n",
            "BLEU SCORES AT LM THRESHOLD VALUE:  -226.43043071999972\n",
            "Excluded BLEU:  6.21\n",
            "Included BLEU:  8.08 \n",
            "\n",
            "BLEU SCORES AT LM THRESHOLD VALUE:  -210.1900001999997\n",
            "Excluded BLEU:  6.64\n",
            "Included BLEU:  8.09 \n",
            "\n",
            "BLEU SCORES AT LM THRESHOLD VALUE:  -193.94956967999968\n",
            "Excluded BLEU:  6.81\n",
            "Included BLEU:  8.21 \n",
            "\n",
            "BLEU SCORES AT LM THRESHOLD VALUE:  -177.70913915999967\n",
            "Excluded BLEU:  6.86\n",
            "Included BLEU:  8.35 \n",
            "\n",
            "BLEU SCORES AT LM THRESHOLD VALUE:  -161.46870863999965\n",
            "Excluded BLEU:  7.36\n",
            "Included BLEU:  8.28 \n",
            "\n",
            "BLEU SCORES AT LM THRESHOLD VALUE:  -145.22827811999963\n",
            "Excluded BLEU:  7.54\n",
            "Included BLEU:  8.32 \n",
            "\n",
            "BLEU SCORES AT LM THRESHOLD VALUE:  -128.9878475999996\n",
            "Excluded BLEU:  7.46\n",
            "Included BLEU:  8.73 \n",
            "\n",
            "BLEU SCORES AT LM THRESHOLD VALUE:  -112.7474170799996\n",
            "Excluded BLEU:  7.43\n",
            "Included BLEU:  9.56 \n",
            "\n",
            "BLEU SCORES AT LM THRESHOLD VALUE:  -96.50698655999958\n",
            "Excluded BLEU:  7.58\n",
            "Included BLEU:  10.49 \n",
            "\n",
            "BLEU SCORES AT LM THRESHOLD VALUE:  -80.26655603999956\n",
            "Excluded BLEU:  7.74\n",
            "Included BLEU:  11.81 \n",
            "\n",
            "BLEU SCORES AT LM THRESHOLD VALUE:  -64.02612551999954\n",
            "Excluded BLEU:  7.87\n",
            "Included BLEU:  12.89 \n",
            "\n"
          ],
          "name": "stdout"
        },
        {
          "output_type": "display_data",
          "data": {
            "image/png": "[encoded data removed]",
            "text/plain": [
              "<Figure size 432x288 with 1 Axes>"
            ]
          },
          "metadata": {
            "tags": [],
            "needs_background": "light"
          }
        },
        {
          "output_type": "stream",
          "text": [
            "AUC for incuded fraction: 9.011712522045855\n"
          ],
          "name": "stdout"
        },
        {
          "output_type": "display_data",
          "data": {
            "image/png": "[encoded data removed]",
            "text/plain": [
              "<Figure size 432x288 with 1 Axes>"
            ]
          },
          "metadata": {
            "tags": [],
            "needs_background": "light"
          }
        },
        {
          "output_type": "stream",
          "text": [
            "AUC for excluded fraction: 7.129320987654322\n"
          ],
          "name": "stdout"
        }
      ]
    },
    {
      "cell_type": "code",
      "metadata": {
        "id": "GpF5yegw_0s8",
        "colab_type": "code",
        "outputId": "384e44b9-7aa5-4200-a6f7-2c2f93972b4f",
        "colab": {
          "base_uri": "https://localhost:8080/",
          "height": 295
        }
      },
      "source": [
        "num_to_thresh = {0:\"Average logprob thresholding\", 1: \"Min logprob thresholding\", 2:\"Median logprob thresholding\", 3:\"Max logprob thresholding\", 4:\"Sentence-level BLEU thresholding\", 5:\"LM Score thresholding\"}\n",
        "plt.xlabel('Fraction Above Threshold') \n",
        "plt.ylabel('BLEU score (corpus)') \n",
        "plt.title('Comparing thresholds') \n",
        "for i in range(len(all_inclusion_scores)):\n",
        "    r = random.random()\n",
        "    b = random.random()\n",
        "    g = random.random()\n",
        "    c = (r, g, b)\n",
        "    plt.plot(all_fractions_included[i], all_inclusion_scores[i], label = num_to_thresh[i], color=c)\n",
        "\n",
        "plt.legend(loc=\"upper right\")\n",
        "plt.show()\n",
        "\n",
        "NMT_ground_truth.close()\n",
        "NMT_output.close()\n",
        "Sentence_bleu.close()"
      ],
      "execution_count": 0,
      "outputs": [
        {
          "output_type": "display_data",
          "data": {
            "image/png": "[encoded data removed]",
            "text/plain": [
              "<Figure size 432x288 with 1 Axes>"
            ]
          },
          "metadata": {
            "tags": [],
            "needs_background": "light"
          }
        }
      ]
    },
    {
      "cell_type": "code",
      "metadata": {
        "id": "KJYS6upvB_A9",
        "colab_type": "code",
        "colab": {}
      },
      "source": [
        ""
      ],
      "execution_count": 0,
      "outputs": []
    },
    {
      "cell_type": "code",
      "metadata": {
        "id": "zi7Nckg7B7wT",
        "colab_type": "code",
        "colab": {}
      },
      "source": [
        ""
      ],
      "execution_count": 0,
      "outputs": []
    }
  ]
}