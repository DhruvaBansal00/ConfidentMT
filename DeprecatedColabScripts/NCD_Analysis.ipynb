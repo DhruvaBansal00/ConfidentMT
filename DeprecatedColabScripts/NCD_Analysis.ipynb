{
  "nbformat": 4,
  "nbformat_minor": 0,
  "metadata": {
    "colab": {
      "name": "NCD_Analysis.ipynb",
      "provenance": [],
      "collapsed_sections": [],
      "include_colab_link": true
    },
    "kernelspec": {
      "name": "python3",
      "display_name": "Python 3"
    },
    "accelerator": "GPU"
  },
  "cells": [
    {
      "cell_type": "markdown",
      "metadata": {
        "id": "view-in-github",
        "colab_type": "text"
      },
      "source": [
        "<a href=\"https://colab.research.google.com/github/DhruvaBansal00/ConfidentMT/blob/master/NCD_Analysis.ipynb\" target=\"_parent\"><img src=\"https://colab.research.google.com/assets/colab-badge.svg\" alt=\"Open In Colab\"/></a>"
      ]
    },
    {
      "cell_type": "code",
      "metadata": {
        "id": "ZK5srkvZjOhM",
        "colab_type": "code",
        "outputId": "800d4f77-f2dd-43e9-e4ed-5c75d3fd0cba",
        "colab": {
          "base_uri": "https://localhost:8080/",
          "height": 785
        }
      },
      "source": [
        "!pip install fairseq sacrebleu sentencepiece\n",
        "from google.colab import drive\n",
        "drive.mount('/content/drive')\n",
        "!ls\n",
        "%cd drive/My Drive/ConfidentMachineTranslation/flores\n",
        "!ls\n",
        "!pwd"
      ],
      "execution_count": 0,
      "outputs": [
        {
          "output_type": "stream",
          "text": [
            "Collecting fairseq\n",
            "\u001b[?25l  Downloading https://files.pythonhosted.org/packages/67/bf/de299e082e7af010d35162cb9a185dc6c17db71624590f2f379aeb2519ff/fairseq-0.9.0.tar.gz (306kB)\n",
            "\u001b[K     |████████████████████████████████| 307kB 14.5MB/s \n",
            "\u001b[?25hCollecting sacrebleu\n",
            "\u001b[?25l  Downloading https://files.pythonhosted.org/packages/98/f6/21311ebe1af3e2e6d959cc5ce69e09cae6b6267bbd6db294fcd8744316f6/sacrebleu-1.4.8-py3-none-any.whl (60kB)\n",
            "\u001b[K     |████████████████████████████████| 61kB 11.0MB/s \n",
            "\u001b[?25hCollecting sentencepiece\n",
            "\u001b[?25l  Downloading https://files.pythonhosted.org/packages/98/2c/8df20f3ac6c22ac224fff307ebc102818206c53fc454ecd37d8ac2060df5/sentencepiece-0.1.86-cp36-cp36m-manylinux1_x86_64.whl (1.0MB)\n",
            "\u001b[K     |████████████████████████████████| 1.0MB 49.6MB/s \n",
            "\u001b[?25hRequirement already satisfied: cffi in /usr/local/lib/python3.6/dist-packages (from fairseq) (1.14.0)\n",
            "Requirement already satisfied: cython in /usr/local/lib/python3.6/dist-packages (from fairseq) (0.29.17)\n",
            "Requirement already satisfied: numpy in /usr/local/lib/python3.6/dist-packages (from fairseq) (1.18.3)\n",
            "Requirement already satisfied: regex in /usr/local/lib/python3.6/dist-packages (from fairseq) (2019.12.20)\n",
            "Requirement already satisfied: torch in /usr/local/lib/python3.6/dist-packages (from fairseq) (1.5.0+cu101)\n",
            "Requirement already satisfied: tqdm in /usr/local/lib/python3.6/dist-packages (from fairseq) (4.38.0)\n",
            "Requirement already satisfied: typing in /usr/local/lib/python3.6/dist-packages (from sacrebleu) (3.6.6)\n",
            "Collecting mecab-python3\n",
            "\u001b[?25l  Downloading https://files.pythonhosted.org/packages/18/49/b55a839a77189042960bf96490640c44816073f917d489acbc5d79fa5cc3/mecab_python3-0.996.5-cp36-cp36m-manylinux2010_x86_64.whl (17.1MB)\n",
            "\u001b[K     |████████████████████████████████| 17.1MB 207kB/s \n",
            "\u001b[?25hCollecting portalocker\n",
            "  Downloading https://files.pythonhosted.org/packages/53/84/7b3146ec6378d28abc73ab484f09f47dfa008ad6f03f33d90a369f880e25/portalocker-1.7.0-py2.py3-none-any.whl\n",
            "Requirement already satisfied: pycparser in /usr/local/lib/python3.6/dist-packages (from cffi->fairseq) (2.20)\n",
            "Requirement already satisfied: future in /usr/local/lib/python3.6/dist-packages (from torch->fairseq) (0.16.0)\n",
            "Building wheels for collected packages: fairseq\n",
            "  Building wheel for fairseq (setup.py) ... \u001b[?25l\u001b[?25hdone\n",
            "  Created wheel for fairseq: filename=fairseq-0.9.0-cp36-cp36m-linux_x86_64.whl size=2035390 sha256=e52498a192dc227a519f6f5e2d707eb9f68199fa67c6a972fbb194463b5c12d4\n",
            "  Stored in directory: /root/.cache/pip/wheels/37/3e/1b/0fa30695dcba41e4b0088067fa40f3328d1e8ee78c22cd4766\n",
            "Successfully built fairseq\n",
            "Installing collected packages: mecab-python3, portalocker, sacrebleu, fairseq, sentencepiece\n",
            "Successfully installed fairseq-0.9.0 mecab-python3-0.996.5 portalocker-1.7.0 sacrebleu-1.4.8 sentencepiece-0.1.86\n",
            "Go to this URL in a browser: https://accounts.google.com/o/oauth2/auth?client_id=947318989803-6bn6qk8qdgf4n4g3pfee6491hc0brc4i.apps.googleusercontent.com&redirect_uri=urn%3aietf%3awg%3aoauth%3a2.0%3aoob&response_type=code&scope=email%20https%3a%2f%2fwww.googleapis.com%2fauth%2fdocs.test%20https%3a%2f%2fwww.googleapis.com%2fauth%2fdrive%20https%3a%2f%2fwww.googleapis.com%2fauth%2fdrive.photos.readonly%20https%3a%2f%2fwww.googleapis.com%2fauth%2fpeopleapi.readonly\n",
            "\n",
            "Enter your authorization code:\n",
            "··········\n",
            "Mounted at /content/drive\n",
            "drive  sample_data\n",
            "/content/drive/.shortcut-targets-by-id/1viBwZM7BIiD8O4LeU-9UQXyV82oTWqh6/ConfidentMachineTranslation/flores\n",
            " analysis\t   data-bin\t\t        LM_Thresholding.ipynb\n",
            " Analysis\t   Ensembles\t\t        NCD_Analysis.ipynb\n",
            " backward_models   Ensembling\t\t        noisychannel\n",
            " checkpoints\t   FLORES.ipynb\t\t        NoisyChannel.ipynb\n",
            " configs\t   language_models\t        Resources\n",
            " data\t\t  'LM_Thresholding (1).ipynb'   scripts\n",
            "/content/drive/.shortcut-targets-by-id/1viBwZM7BIiD8O4LeU-9UQXyV82oTWqh6/ConfidentMachineTranslation/flores\n"
          ],
          "name": "stdout"
        }
      ]
    },
    {
      "cell_type": "markdown",
      "metadata": {
        "id": "KG_mjKtYp6Fz",
        "colab_type": "text"
      },
      "source": [
        "Generic Methods and Classes"
      ]
    },
    {
      "cell_type": "code",
      "metadata": {
        "id": "iW8vdPk0qJVS",
        "colab_type": "code",
        "colab": {}
      },
      "source": [
        "from itertools import zip_longest\n",
        "import matplotlib.pyplot as plt\n",
        "from sklearn.metrics import auc\n",
        "from statistics import mean, median \n",
        "\n",
        "\n",
        "class Translation:\n",
        "    def __init__ (self, ref, out, score):\n",
        "        self.reference = ref\n",
        "        self.translation = out\n",
        "        self.score = score\n",
        "    def __repr__(self):\n",
        "        return str(self.score)\n",
        "\n",
        "def compute_excluded_included_score (translations, split_index):\n",
        "    temporary_reference_inclusion = open(\"analysis/temporary_reference_inclusion.txt\", \"w\")\n",
        "    temporary_output_inclusion = open(\"analysis/temporary_output_inclusion.txt\", \"w\")\n",
        "\n",
        "    temporary_reference_exclusion = open(\"analysis/temporary_reference_exclusion.txt\", \"w\")\n",
        "    temporary_output_exclusion = open(\"analysis/temporary_output_exclusion.txt\", \"w\")\n",
        "\n",
        "    for i in range(len(translations)):\n",
        "        if i < split_index:\n",
        "            temporary_reference_exclusion.write(translations[i].reference)\n",
        "            temporary_output_exclusion.write(translations[i].translation)\n",
        "        else:\n",
        "            temporary_reference_inclusion.write(translations[i].reference)\n",
        "            temporary_output_inclusion.write(translations[i].translation)\n",
        "\n",
        "    temporary_reference_inclusion.close()\n",
        "    temporary_output_inclusion.close()\n",
        "    temporary_reference_exclusion.close()\n",
        "    temporary_output_exclusion.close()\n",
        "\n",
        "    !fairseq-score --sys analysis/temporary_output_inclusion.txt --ref analysis/temporary_reference_inclusion.txt --sacrebleu > analysis/inclusion_result.txt\n",
        "    !fairseq-score --sys analysis/temporary_output_exclusion.txt --ref analysis/temporary_reference_exclusion.txt --sacrebleu > analysis/exclusion_result.txt\n",
        "\n",
        "    temporary_inclusion_result = open(\"analysis/inclusion_result.txt\")\n",
        "    temporary_exclusion_result = open(\"analysis/exclusion_result.txt\")\n",
        "    inclusion_result_string = [line for line in temporary_inclusion_result][1].split(\" \")[2]\n",
        "    exclusion_result_string = [line for line in temporary_exclusion_result][1].split(\" \")[2]\n",
        "\n",
        "    return float(exclusion_result_string), float(inclusion_result_string)\n",
        "\n",
        "def produce_statistics():\n",
        "    bleu_res = open(\"analysis/testSet_BLEU.txt\", \"r\")\n",
        "    NMT_ground_truth = open(\"analysis/ground_truth_sentences.txt\", \"w\")\n",
        "    NMT_output = open(\"analysis/translated_sentences.txt\", \"w\")\n",
        "    Sentence_stats = open(\"analysis/logprob_statistics.txt\", \"w\")\n",
        "\n",
        "    for line in bleu_res:\n",
        "        if line.startswith(\"H-\"):\n",
        "            NMT_output.write(line.split(\"\t\")[2])\n",
        "        elif line.startswith(\"T-\"):\n",
        "            NMT_ground_truth.write(line.split(\"\t\")[1])\n",
        "        elif line.startswith(\"P-\"):\n",
        "            scores = [float(i) for i in line.split(\"\\t\")[1].split(\" \")]\n",
        "            Sentence_stats.write(str(mean(scores))+\" \"+str(min(scores))+\" \"+str(median(scores))+\" \"+str(max(scores))+\"\\n\")\n",
        "\n",
        "    NMT_ground_truth.close()\n",
        "    NMT_output.close()\n",
        "    Sentence_stats.close()"
      ],
      "execution_count": 0,
      "outputs": []
    },
    {
      "cell_type": "markdown",
      "metadata": {
        "id": "sQaMYW9vp0oQ",
        "colab_type": "text"
      },
      "source": [
        "Generate Predictions and SacreBlue for baseline"
      ]
    },
    {
      "cell_type": "code",
      "metadata": {
        "id": "zDZ3aqdspsks",
        "colab_type": "code",
        "outputId": "b026e361-cd95-4386-d7e7-c6227aab5bd5",
        "colab": {
          "base_uri": "https://localhost:8080/",
          "height": 54
        }
      },
      "source": [
        "!fairseq-generate \\\n",
        "    data-bin/wiki_ne_en_bpe5000/ \\\n",
        "    --source-lang ne --target-lang en \\\n",
        "    --path Ensembles/April_04.pt \\\n",
        "    --beam 5 --lenpen 1.2 \\\n",
        "    --gen-subset test \\\n",
        "    --remove-bpe=sentencepiece \\\n",
        "    --sacrebleu > analysis/testSet_BLEU.txt\n",
        "\n",
        "produce_statistics()"
      ],
      "execution_count": 0,
      "outputs": [
        {
          "output_type": "stream",
          "text": [
            "  0% 0/14 [00:00<?, ?it/s]/pytorch/aten/src/ATen/native/BinaryOps.cpp:66: UserWarning: Integer division of tensors using div or / is deprecated, and in a future release div will perform true division as in Python 3. Use true_divide or floor_divide (// in Python) instead.\n"
          ],
          "name": "stdout"
        }
      ]
    },
    {
      "cell_type": "code",
      "metadata": {
        "id": "LkMKdaDdrlif",
        "colab_type": "code",
        "colab": {}
      },
      "source": [
        "!fairseq-score --sys analysis/translated_sentences.txt --ref analysis/ground_truth_sentences.txt --sentence-bleu > analysis/scores.txt"
      ],
      "execution_count": 0,
      "outputs": []
    },
    {
      "cell_type": "markdown",
      "metadata": {
        "id": "Q_VAvV_lsN57",
        "colab_type": "text"
      },
      "source": [
        "Create 2 arrays - one with baseline translations with logprob stats and another with sentence level bleu (oracle)"
      ]
    },
    {
      "cell_type": "code",
      "metadata": {
        "id": "KkBFvmvZq4Pi",
        "colab_type": "code",
        "colab": {}
      },
      "source": [
        "NMT_ground_truth = open(\"analysis/ground_truth_sentences.txt\", \"r\")\n",
        "NMT_output = open(\"analysis/translated_sentences.txt\", \"r\")\n",
        "Sentence_stats = open(\"analysis/logprob_statistics.txt\", \"r\")\n",
        "Sentence_bleu = open(\"analysis/scores.txt\", \"r\")\n",
        "next(Sentence_bleu)\n",
        "\n",
        "files = [NMT_ground_truth, NMT_output, Sentence_stats, Sentence_bleu]\n",
        "baseline_logprob_translations = []\n",
        "baseline_oracle_translations = []\n",
        "\n",
        "for lines in zip_longest(*files, fillvalue=''):\n",
        "    reference, translation, stats, sentence_bleu = lines\n",
        "    sentence_bleu = float(sentence_bleu.split(\"BLEU4 = \")[1].split(\",\")[0])\n",
        "    stats = [float(i) for i in stats.strip(\"\\n\").split(\" \")]\n",
        "    baseline_logprob_translations.append(Translation(reference, translation, stats[0]))\n",
        "    baseline_oracle_translations.append(Translation(reference, translation, sentence_bleu))"
      ],
      "execution_count": 0,
      "outputs": []
    },
    {
      "cell_type": "markdown",
      "metadata": {
        "id": "YDy4BVoT0kng",
        "colab_type": "text"
      },
      "source": [
        "Generate Predictions and SacreBleu for ensemble\n"
      ]
    },
    {
      "cell_type": "code",
      "metadata": {
        "id": "sHIxzC-z0oW4",
        "colab_type": "code",
        "outputId": "a0c0755a-9df9-4006-8013-962fb08db1fd",
        "colab": {
          "base_uri": "https://localhost:8080/",
          "height": 734
        }
      },
      "source": [
        "import glob\n",
        "path = 'Ensembles/*'\n",
        "ensemble_models = \"\"\n",
        "for file in glob.glob(path):\n",
        "  ensemble_models += file + \":\"\n",
        "ensemble_models = ensemble_models[:-1]\n",
        "\n",
        "!fairseq-generate \\\n",
        "    data-bin/wiki_ne_en_bpe5000/ \\\n",
        "    --source-lang ne --target-lang en \\\n",
        "    --path $ensemble_models \\\n",
        "    --beam 5 --lenpen 1.2 \\\n",
        "    --gen-subset test \\\n",
        "    --remove-bpe=sentencepiece \\\n",
        "    --sacrebleu > analysis/testSet_BLEU.txt\n",
        "\n",
        "produce_statistics()"
      ],
      "execution_count": 0,
      "outputs": [
        {
          "output_type": "stream",
          "text": [
            "  0% 0/14 [00:00<?, ?it/s]/pytorch/aten/src/ATen/native/BinaryOps.cpp:66: UserWarning: Integer division of tensors using div or / is deprecated, and in a future release div will perform true division as in Python 3. Use true_divide or floor_divide (// in Python) instead.\n",
            "Traceback (most recent call last):\n",
            "  File \"/usr/local/bin/fairseq-generate\", line 8, in <module>\n",
            "    sys.exit(cli_main())\n",
            "  File \"/usr/local/lib/python3.6/dist-packages/fairseq_cli/generate.py\", line 199, in cli_main\n",
            "    main(args)\n",
            "  File \"/usr/local/lib/python3.6/dist-packages/fairseq_cli/generate.py\", line 104, in main\n",
            "    hypos = task.inference_step(generator, models, sample, prefix_tokens)\n",
            "  File \"/usr/local/lib/python3.6/dist-packages/fairseq/tasks/fairseq_task.py\", line 265, in inference_step\n",
            "    return generator.generate(models, sample, prefix_tokens=prefix_tokens)\n",
            "  File \"/usr/local/lib/python3.6/dist-packages/torch/autograd/grad_mode.py\", line 15, in decorate_context\n",
            "    return func(*args, **kwargs)\n",
            "  File \"/usr/local/lib/python3.6/dist-packages/fairseq/sequence_generator.py\", line 113, in generate\n",
            "    return self._generate(model, sample, **kwargs)\n",
            "  File \"/usr/local/lib/python3.6/dist-packages/torch/autograd/grad_mode.py\", line 15, in decorate_context\n",
            "    return func(*args, **kwargs)\n",
            "  File \"/usr/local/lib/python3.6/dist-packages/fairseq/sequence_generator.py\", line 295, in _generate\n",
            "    tokens[:, :step + 1], encoder_outs, temperature=self.temperature,\n",
            "  File \"/usr/local/lib/python3.6/dist-packages/torch/autograd/grad_mode.py\", line 15, in decorate_context\n",
            "    return func(*args, **kwargs)\n",
            "  File \"/usr/local/lib/python3.6/dist-packages/fairseq/sequence_generator.py\", line 565, in forward_decoder\n",
            "    temperature=temperature,\n",
            "  File \"/usr/local/lib/python3.6/dist-packages/fairseq/sequence_generator.py\", line 584, in _decode_one\n",
            "    tokens, encoder_out=encoder_out, incremental_state=self.incremental_states[model],\n",
            "  File \"/usr/local/lib/python3.6/dist-packages/fairseq/models/fairseq_model.py\", line 228, in forward_decoder\n",
            "    return self.decoder(prev_output_tokens, **kwargs)\n",
            "  File \"/usr/local/lib/python3.6/dist-packages/torch/nn/modules/module.py\", line 550, in __call__\n",
            "    result = self.forward(*input, **kwargs)\n",
            "  File \"/usr/local/lib/python3.6/dist-packages/fairseq/models/transformer.py\", line 589, in forward\n",
            "    **extra_args\n",
            "  File \"/usr/local/lib/python3.6/dist-packages/fairseq/models/transformer.py\", line 686, in extract_features\n",
            "    need_head_weights=(idx == alignment_layer),\n",
            "  File \"/usr/local/lib/python3.6/dist-packages/torch/nn/modules/module.py\", line 550, in __call__\n",
            "    result = self.forward(*input, **kwargs)\n",
            "  File \"/usr/local/lib/python3.6/dist-packages/fairseq/modules/transformer_layer.py\", line 246, in forward\n",
            "    attn_mask=self_attn_mask,\n",
            "  File \"/usr/local/lib/python3.6/dist-packages/torch/nn/modules/module.py\", line 550, in __call__\n",
            "    result = self.forward(*input, **kwargs)\n",
            "  File \"/usr/local/lib/python3.6/dist-packages/fairseq/modules/multihead_attention.py\", line 197, in forward\n",
            "    v = torch.cat((prev_value, v), dim=1)\n",
            "RuntimeError: CUDA out of memory. Tried to allocate 32.00 MiB (GPU 0; 7.43 GiB total capacity; 5.96 GiB already allocated; 30.94 MiB free; 6.89 GiB reserved in total by PyTorch)\n"
          ],
          "name": "stdout"
        }
      ]
    },
    {
      "cell_type": "markdown",
      "metadata": {
        "id": "Vi1IzdNy1N_f",
        "colab_type": "text"
      },
      "source": [
        "Create array with ensemble translations with average logprob of tokens"
      ]
    },
    {
      "cell_type": "code",
      "metadata": {
        "id": "3OVAHBMA1Ta4",
        "colab_type": "code",
        "colab": {}
      },
      "source": [
        "NMT_ground_truth = open(\"analysis/ground_truth_sentences.txt\", \"r\")\n",
        "NMT_output = open(\"analysis/translated_sentences.txt\", \"r\")\n",
        "Sentence_stats = open(\"analysis/logprob_statistics.txt\", \"r\")\n",
        "\n",
        "files = [NMT_ground_truth, NMT_output, Sentence_stats]\n",
        "ensemble_translations = []\n",
        "\n",
        "for lines in zip_longest(*files, fillvalue=''):\n",
        "    reference, translation, stats = lines\n",
        "    stats = [float(i) for i in stats.strip(\"\\n\").split(\" \")]\n",
        "    ensemble_translations.append(Translation(reference, translation, stats[0]))\n",
        "\n",
        "ensemble_translations.sort(key=lambda x: x.score, reverse=False)"
      ],
      "execution_count": 0,
      "outputs": []
    },
    {
      "cell_type": "markdown",
      "metadata": {
        "id": "mpiBHegu1ja1",
        "colab_type": "text"
      },
      "source": [
        "Create array with ncd_no_ensembling translations with re-rank score"
      ]
    },
    {
      "cell_type": "code",
      "metadata": {
        "id": "vWpMPYWy1nbD",
        "colab_type": "code",
        "colab": {}
      },
      "source": [
        "ncd_no_ensembling_hypos = open(\"noisychannel/rerank_data/ncd_without_ensembling/nbest_20_subset_test_fw/matched_hypos\", \"r\")\n",
        "ncd_no_ensembling_gt = open(\"noisychannel/rerank_data/ncd_without_ensembling/nbest_20_subset_test_fw/matched_targets\", \"r\")\n",
        "ncd_no_ensembling_scores = open(\"noisychannel/rerank_data/ncd_without_ensembling/nbest_20_subset_test_fw/hypos_scores\", \"r\")\n",
        "\n",
        "ncd_no_ensembling_translations = []\n",
        "\n",
        "files = [ncd_no_ensembling_hypos, ncd_no_ensembling_gt, ncd_no_ensembling_scores]\n",
        "for lines in zip_longest(*files, fillvalue=''):\n",
        "    translation, reference, score = lines\n",
        "    ncd_no_ensembling_translations.append(Translation(reference, translation, float(score)))\n",
        "\n",
        "ncd_no_ensembling_translations.sort(key=lambda x: x.score, reverse=False)"
      ],
      "execution_count": 0,
      "outputs": []
    },
    {
      "cell_type": "markdown",
      "metadata": {
        "id": "uNrKFB7nqLcB",
        "colab_type": "text"
      },
      "source": [
        "Create array with ncd_ensembling translations with re-rank score\n"
      ]
    },
    {
      "cell_type": "code",
      "metadata": {
        "id": "tQxb8HHbjqIo",
        "colab_type": "code",
        "colab": {}
      },
      "source": [
        "ncd_ensembling_hypos = open(\"noisychannel/rerank_data/ncd_with_ensembling/nbest_20_subset_test_fw/matched_hypos\", \"r\")\n",
        "ncd_ensembling_gt = open(\"noisychannel/rerank_data/ncd_with_ensembling/nbest_20_subset_test_fw/matched_targets\", \"r\")\n",
        "ncd_ensembling_scores = open(\"noisychannel/rerank_data/ncd_with_ensembling/nbest_20_subset_test_fw/hypos_scores\", \"r\")\n",
        "\n",
        "ncd_ensembling_translations = []\n",
        "\n",
        "files = [ncd_ensembling_hypos, ncd_ensembling_gt, ncd_ensembling_scores]\n",
        "for lines in zip_longest(*files, fillvalue=''):\n",
        "    translation, reference, score = lines\n",
        "    ncd_ensembling_translations.append(Translation(reference, translation, float(score)))\n",
        "\n",
        "ncd_ensembling_translations.sort(key=lambda x: x.score, reverse=False)"
      ],
      "execution_count": 0,
      "outputs": []
    },
    {
      "cell_type": "code",
      "metadata": {
        "id": "NeA9z6VNsvlG",
        "colab_type": "code",
        "outputId": "6df59fdf-1ab3-4cdd-b4b6-e800b43aef69",
        "colab": {
          "base_uri": "https://localhost:8080/",
          "height": 102
        }
      },
      "source": [
        "print(len(baseline_logprob_translations))\n",
        "print(len(baseline_oracle_translations))\n",
        "print(len(ensemble_translations))\n",
        "print(len(ncd_no_ensembling_translations))\n",
        "print(len(ncd_ensembling_translations))"
      ],
      "execution_count": 0,
      "outputs": [
        {
          "output_type": "stream",
          "text": [
            "2835\n",
            "2835\n",
            "0\n",
            "2835\n",
            "2835\n"
          ],
          "name": "stdout"
        }
      ]
    },
    {
      "cell_type": "markdown",
      "metadata": {
        "id": "GtiTnXQmmmfa",
        "colab_type": "text"
      },
      "source": [
        "Get the following 5 plots on the same graph - \n",
        "\n",
        "Average logprob thresholding of baseline model\n",
        "\n",
        "Same but for ensemble\n",
        "\n",
        "Same but for baseline reranked with NCD\n",
        "\n",
        "Same but for NCD ensemble\n",
        "\n",
        "Oracle BLEU of the baseline"
      ]
    },
    {
      "cell_type": "code",
      "metadata": {
        "id": "Lc_yHxvz2czk",
        "colab_type": "code",
        "outputId": "4348162c-a5ab-473b-eea5-81652effdbf6",
        "colab": {
          "base_uri": "https://localhost:8080/",
          "height": 1000
        }
      },
      "source": [
        "import numpy as np\n",
        "import random\n",
        "\n",
        "index_to_label = {0:\"Average logprob thresholding of baseline model\", 1:\"Oracle sentence BLEU of the baseline\", 2:\"Average logprob thresholding of ensemble\", 3:\"Re-rank score thresholding of NCD\", 4:\"Re-rank score thresholding of NCD with ensemble\"}\n",
        "\n",
        "thresholding_data = [baseline_logprob_translations, baseline_oracle_translations, ensemble_translations, ncd_no_ensembling_translations, ncd_ensembling_translations]\n",
        "all_inclusion_scores = []\n",
        "all_fractions_included = []\n",
        "\n",
        "for index in range(len(thresholding_data)):\n",
        "    thresholding_data[index].sort(key=lambda x: x.score, reverse=False)\n",
        "    translations = thresholding_data[index]\n",
        "\n",
        "    # print(\"Worst reference: \" +translations[0].reference+\" Worst translation: \"+translations[0].translation)\n",
        "    thresholds = []\n",
        "\n",
        "\n",
        "    ##Trying to get 25 good thresholds for each case\n",
        "    if index == 0:\n",
        "        thresholds = np.linspace(-1.5, 0, 25).tolist()\n",
        "        # thresholds = [i for i in arange(-1.5, 0, 0.07)]\n",
        "    elif index == 1:\n",
        "        thresholds = np.linspace(0, 70, 25).tolist()\n",
        "        # thresholds = [i for i in arange(0, 70, 3)]\n",
        "    elif index == 2:\n",
        "        thresholds = np.linspace(-1.5, 0, 25).tolist()\n",
        "        # thresholds = [i for i in arange(-1.5, 0, 0.07)]\n",
        "    elif index == 3:\n",
        "        thresholds = np.linspace(-275, -40, 25).tolist()\n",
        "        # thresholds = [i for i in arange(-275, -40, 25)]\n",
        "    elif index == 4:\n",
        "        thresholds = np.linspace(-370, -50, 25).tolist()\n",
        "        # thresholds = [i for i in arange(-370, -50, 25)]\n",
        "\n",
        "    inclusion_scores = []\n",
        "    exclusion_scores = []\n",
        "    fraction_included = []\n",
        "    fraction_excluded = []\n",
        "\n",
        "    for threshold in thresholds:\n",
        "        split_index = 1 ## We always start at 1 so that the exclusion set is never empty. \n",
        "        while split_index < 0.99*len(translations) and translations[split_index].score < threshold:  ##0.95*len(translations) - to make sure the inclusion set always has a good number of examples\n",
        "            split_index += 1\n",
        "        exclusion, inclusion = compute_excluded_included_score(translations, split_index)\n",
        "        inclusion_scores.append(inclusion)\n",
        "        exclusion_scores.append(exclusion)\n",
        "        fraction_included.append((len(translations) - split_index)/len(translations))\n",
        "        fraction_excluded.append(split_index/len(translations))\n",
        "    \n",
        "    all_inclusion_scores.append(inclusion_scores)\n",
        "    all_fractions_included.append(fraction_included)\n",
        "\n",
        "    #########################   PLOTING   ################################\n",
        "    plt.scatter(fraction_included, inclusion_scores, color= \"blue\")\n",
        "    plt.xlabel('Fraction Above Threshold') \n",
        "    plt.ylabel('BLEU score (corpus)') \n",
        "    plt.title('BLEU vs Fractional dataset ('+index_to_label[index]+')') \n",
        "    plt.show() \n",
        "\n",
        "    print('AUC for incuded fraction: {}'.format(auc(fraction_included, inclusion_scores)))\n",
        "\n",
        "    plt.scatter(fraction_excluded, exclusion_scores, color= \"red\")\n",
        "    plt.xlabel('Fraction Below Threshold') \n",
        "    plt.ylabel('BLEU score (corpus)') \n",
        "    plt.title('BLEU vs Fractional dataset ('+index_to_label[index]+')') \n",
        "    plt.show()  \n",
        "\n",
        "    print('AUC for excluded fraction: {}'.format(auc(fraction_excluded, exclusion_scores)))\n",
        "    ####################################################################\n",
        "\n",
        "plt.xlabel('Fraction Above Threshold') \n",
        "plt.ylabel('BLEU score (corpus)') \n",
        "plt.title('Comparing NMTs') \n",
        "for i in range(len(all_inclusion_scores)):\n",
        "    r = random.random()\n",
        "    b = random.random()\n",
        "    g = random.random()\n",
        "    c = (r, g, b)\n",
        "    plt.plot(all_fractions_included[i], all_inclusion_scores[i], label = index_to_label[i], color=c)\n",
        "\n",
        "plt.legend(loc=\"upper right\")\n",
        "plt.show()"
      ],
      "execution_count": 0,
      "outputs": [
        {
          "output_type": "display_data",
          "data": {
            "image/png": "[encoded data removed]",
            "text/plain": [
              "<Figure size 432x288 with 1 Axes>"
            ]
          },
          "metadata": {
            "tags": [],
            "needs_background": "light"
          }
        },
        {
          "output_type": "stream",
          "text": [
            "AUC for incuded fraction: 12.035084656084656\n"
          ],
          "name": "stdout"
        },
        {
          "output_type": "display_data",
          "data": {
            "image/png": "[encoded data removed]",
            "text/plain": [
              "<Figure size 432x288 with 1 Axes>"
            ]
          },
          "metadata": {
            "tags": [],
            "needs_background": "light"
          }
        },
        {
          "output_type": "stream",
          "text": [
            "AUC for excluded fraction: 4.41221340388007\n"
          ],
          "name": "stdout"
        },
        {
          "output_type": "display_data",
          "data": {
            "image/png": "[encoded data removed]",
            "text/plain": [
              "<Figure size 432x288 with 1 Axes>"
            ]
          },
          "metadata": {
            "tags": [],
            "needs_background": "light"
          }
        },
        {
          "output_type": "stream",
          "text": [
            "AUC for incuded fraction: 15.946908289241623\n"
          ],
          "name": "stdout"
        },
        {
          "output_type": "display_data",
          "data": {
            "image/png": "[encoded data removed]",
            "text/plain": [
              "<Figure size 432x288 with 1 Axes>"
            ]
          },
          "metadata": {
            "tags": [],
            "needs_background": "light"
          }
        },
        {
          "output_type": "stream",
          "text": [
            "AUC for excluded fraction: 2.3508324514991186\n",
            "Traceback (most recent call last):\n",
            "  File \"/usr/local/bin/fairseq-score\", line 8, in <module>\n",
            "    sys.exit(main())\n",
            "  File \"/usr/local/lib/python3.6/dist-packages/fairseq_cli/score.py\", line 84, in main\n",
            "    score(f)\n",
            "  File \"/usr/local/lib/python3.6/dist-packages/fairseq_cli/score.py\", line 59, in score\n",
            "    print(sacrebleu.corpus_bleu(fdsys, [fdref]))\n",
            "  File \"/usr/local/lib/python3.6/dist-packages/sacrebleu/sacrebleu.py\", line 455, in __str__\n",
            "    return self.format()\n",
            "  File \"/usr/local/lib/python3.6/dist-packages/sacrebleu/sacrebleu.py\", line 483, in format\n",
            "    ratio=self.sys_len / self.ref_len,\n",
            "ZeroDivisionError: division by zero\n",
            "Traceback (most recent call last):\n",
            "  File \"/usr/local/bin/fairseq-score\", line 8, in <module>\n",
            "    sys.exit(main())\n",
            "  File \"/usr/local/lib/python3.6/dist-packages/fairseq_cli/score.py\", line 84, in main\n",
            "    score(f)\n",
            "  File \"/usr/local/lib/python3.6/dist-packages/fairseq_cli/score.py\", line 59, in score\n",
            "    print(sacrebleu.corpus_bleu(fdsys, [fdref]))\n",
            "  File \"/usr/local/lib/python3.6/dist-packages/sacrebleu/sacrebleu.py\", line 455, in __str__\n",
            "    return self.format()\n",
            "  File \"/usr/local/lib/python3.6/dist-packages/sacrebleu/sacrebleu.py\", line 483, in format\n",
            "    ratio=self.sys_len / self.ref_len,\n",
            "ZeroDivisionError: division by zero\n"
          ],
          "name": "stdout"
        },
        {
          "output_type": "error",
          "ename": "IndexError",
          "evalue": "ignored",
          "traceback": [
            "\u001b[0;31m---------------------------------------------------------------------------\u001b[0m",
            "\u001b[0;31mIndexError\u001b[0m                                Traceback (most recent call last)",
            "\u001b[0;32m<ipython-input-19-b6ba77872410>\u001b[0m in \u001b[0;36m<module>\u001b[0;34m()\u001b[0m\n\u001b[1;32m     42\u001b[0m         \u001b[0;32mwhile\u001b[0m \u001b[0msplit_index\u001b[0m \u001b[0;34m<\u001b[0m \u001b[0;36m0.99\u001b[0m\u001b[0;34m*\u001b[0m\u001b[0mlen\u001b[0m\u001b[0;34m(\u001b[0m\u001b[0mtranslations\u001b[0m\u001b[0;34m)\u001b[0m \u001b[0;32mand\u001b[0m \u001b[0mtranslations\u001b[0m\u001b[0;34m[\u001b[0m\u001b[0msplit_index\u001b[0m\u001b[0;34m]\u001b[0m\u001b[0;34m.\u001b[0m\u001b[0mscore\u001b[0m \u001b[0;34m<\u001b[0m \u001b[0mthreshold\u001b[0m\u001b[0;34m:\u001b[0m  \u001b[0;31m##0.95*len(translations) - to make sure the inclusion set always has a good number of examples\u001b[0m\u001b[0;34m\u001b[0m\u001b[0;34m\u001b[0m\u001b[0m\n\u001b[1;32m     43\u001b[0m             \u001b[0msplit_index\u001b[0m \u001b[0;34m+=\u001b[0m \u001b[0;36m1\u001b[0m\u001b[0;34m\u001b[0m\u001b[0;34m\u001b[0m\u001b[0m\n\u001b[0;32m---> 44\u001b[0;31m         \u001b[0mexclusion\u001b[0m\u001b[0;34m,\u001b[0m \u001b[0minclusion\u001b[0m \u001b[0;34m=\u001b[0m \u001b[0mcompute_excluded_included_score\u001b[0m\u001b[0;34m(\u001b[0m\u001b[0mtranslations\u001b[0m\u001b[0;34m,\u001b[0m \u001b[0msplit_index\u001b[0m\u001b[0;34m)\u001b[0m\u001b[0;34m\u001b[0m\u001b[0;34m\u001b[0m\u001b[0m\n\u001b[0m\u001b[1;32m     45\u001b[0m         \u001b[0minclusion_scores\u001b[0m\u001b[0;34m.\u001b[0m\u001b[0mappend\u001b[0m\u001b[0;34m(\u001b[0m\u001b[0minclusion\u001b[0m\u001b[0;34m)\u001b[0m\u001b[0;34m\u001b[0m\u001b[0;34m\u001b[0m\u001b[0m\n\u001b[1;32m     46\u001b[0m         \u001b[0mexclusion_scores\u001b[0m\u001b[0;34m.\u001b[0m\u001b[0mappend\u001b[0m\u001b[0;34m(\u001b[0m\u001b[0mexclusion\u001b[0m\u001b[0;34m)\u001b[0m\u001b[0;34m\u001b[0m\u001b[0;34m\u001b[0m\u001b[0m\n",
            "\u001b[0;32m<ipython-input-2-368442d61ca4>\u001b[0m in \u001b[0;36mcompute_excluded_included_score\u001b[0;34m(translations, split_index)\u001b[0m\n\u001b[1;32m     38\u001b[0m     \u001b[0mtemporary_inclusion_result\u001b[0m \u001b[0;34m=\u001b[0m \u001b[0mopen\u001b[0m\u001b[0;34m(\u001b[0m\u001b[0;34m\"analysis/inclusion_result.txt\"\u001b[0m\u001b[0;34m)\u001b[0m\u001b[0;34m\u001b[0m\u001b[0;34m\u001b[0m\u001b[0m\n\u001b[1;32m     39\u001b[0m     \u001b[0mtemporary_exclusion_result\u001b[0m \u001b[0;34m=\u001b[0m \u001b[0mopen\u001b[0m\u001b[0;34m(\u001b[0m\u001b[0;34m\"analysis/exclusion_result.txt\"\u001b[0m\u001b[0;34m)\u001b[0m\u001b[0;34m\u001b[0m\u001b[0;34m\u001b[0m\u001b[0m\n\u001b[0;32m---> 40\u001b[0;31m     \u001b[0minclusion_result_string\u001b[0m \u001b[0;34m=\u001b[0m \u001b[0;34m[\u001b[0m\u001b[0mline\u001b[0m \u001b[0;32mfor\u001b[0m \u001b[0mline\u001b[0m \u001b[0;32min\u001b[0m \u001b[0mtemporary_inclusion_result\u001b[0m\u001b[0;34m]\u001b[0m\u001b[0;34m[\u001b[0m\u001b[0;36m1\u001b[0m\u001b[0;34m]\u001b[0m\u001b[0;34m.\u001b[0m\u001b[0msplit\u001b[0m\u001b[0;34m(\u001b[0m\u001b[0;34m\" \"\u001b[0m\u001b[0;34m)\u001b[0m\u001b[0;34m[\u001b[0m\u001b[0;36m2\u001b[0m\u001b[0;34m]\u001b[0m\u001b[0;34m\u001b[0m\u001b[0;34m\u001b[0m\u001b[0m\n\u001b[0m\u001b[1;32m     41\u001b[0m     \u001b[0mexclusion_result_string\u001b[0m \u001b[0;34m=\u001b[0m \u001b[0;34m[\u001b[0m\u001b[0mline\u001b[0m \u001b[0;32mfor\u001b[0m \u001b[0mline\u001b[0m \u001b[0;32min\u001b[0m \u001b[0mtemporary_exclusion_result\u001b[0m\u001b[0;34m]\u001b[0m\u001b[0;34m[\u001b[0m\u001b[0;36m1\u001b[0m\u001b[0;34m]\u001b[0m\u001b[0;34m.\u001b[0m\u001b[0msplit\u001b[0m\u001b[0;34m(\u001b[0m\u001b[0;34m\" \"\u001b[0m\u001b[0;34m)\u001b[0m\u001b[0;34m[\u001b[0m\u001b[0;36m2\u001b[0m\u001b[0;34m]\u001b[0m\u001b[0;34m\u001b[0m\u001b[0;34m\u001b[0m\u001b[0m\n\u001b[1;32m     42\u001b[0m \u001b[0;34m\u001b[0m\u001b[0m\n",
            "\u001b[0;31mIndexError\u001b[0m: list index out of range"
          ]
        }
      ]
    },
    {
      "cell_type": "code",
      "metadata": {
        "id": "DSKz04Lk3TNZ",
        "colab_type": "code",
        "outputId": "ab684560-2a3e-41c9-924f-774ab28b44ae",
        "colab": {
          "base_uri": "https://localhost:8080/",
          "height": 51
        }
      },
      "source": [
        "#Read LM_Scores file into an ordered list of floats\n",
        "lm_scores = open(\"noisychannel/rerank_data/ncd_without_ensembling/nbest_5_subset_test_fw_name_ne-en_shard_0_of_1/lm_scores\", \"r\")\n",
        "lm_scores_list = []\n",
        "for line in lm_scores:\n",
        "  lm_scores_list.append(float(line[:-1]))\n",
        "print(\"min val: \", min(lm_scores_list))\n",
        "print(\"max val: \", max(lm_scores_list))\n",
        "lower_bound = min(lm_scores_list)\n",
        "upper_bound = max(lm_scores_list)\n",
        "\n",
        "from itertools import zip_longest\n",
        "\n",
        "class Translation:\n",
        "    def __init__ (self, ref, out):\n",
        "        self.reference = ref\n",
        "        self.translation = out\n",
        "\n",
        "def get_sentence_pairs():\n",
        "  NCD_ground_truth = open(\"noisychannel/rerank_data/ncd_without_ensembling/nbest_5_subset_test_fw_name_ne-en_shard_0_of_1/matched_targets\", \"r\")\n",
        "  NCD_output = open(\"noisychannel/rerank_data/ncd_without_ensembling/nbest_5_subset_test_fw_name_ne-en_shard_0_of_1/matched_hypos\", \"r\")\n",
        "  files = [NCD_ground_truth, NCD_output]\n",
        "  translations = []\n",
        "  for lines in zip_longest(*files, fillvalue=''):\n",
        "    reference, translation = lines\n",
        "    translations.append(Translation(reference, translation))\n",
        "  return translations\n",
        "\n",
        "def compute_excluded_included_score(translations, thresh):\n",
        "  temporary_reference_inclusion = open(\"analysis/temporary_reference_inclusion.txt\", \"w\")\n",
        "  temporary_output_inclusion = open(\"analysis/temporary_output_inclusion.txt\", \"w\")\n",
        "\n",
        "  temporary_reference_exclusion = open(\"analysis/temporary_reference_exclusion.txt\", \"w\")\n",
        "  temporary_output_exclusion = open(\"analysis/temporary_output_exclusion.txt\", \"w\")\n",
        "\n",
        "  num_exc = 0\n",
        "  for i, lm in enumerate(lm_scores_list):\n",
        "    if lm < thresh:\n",
        "      temporary_reference_exclusion.write(translations[i].reference)\n",
        "      temporary_output_exclusion.write(translations[i].translation)\n",
        "      num_exc += 1\n",
        "    else:\n",
        "      temporary_reference_inclusion.write(translations[i].reference)\n",
        "      temporary_output_inclusion.write(translations[i].translation)\n",
        "  temporary_reference_inclusion.close()\n",
        "  temporary_output_inclusion.close()\n",
        "  temporary_reference_exclusion.close()\n",
        "  temporary_output_exclusion.close()\n",
        "\n",
        "  !fairseq-score --sys analysis/temporary_output_inclusion.txt --ref analysis/temporary_reference_inclusion.txt --sacrebleu > analysis/inclusion_result.txt\n",
        "  !fairseq-score --sys analysis/temporary_output_exclusion.txt --ref analysis/temporary_reference_exclusion.txt --sacrebleu > analysis/exclusion_result.txt\n",
        "\n",
        "  temporary_inclusion_result = open(\"analysis/inclusion_result.txt\")\n",
        "  temporary_exclusion_result = open(\"analysis/exclusion_result.txt\")\n",
        "  inclusion_result_string = [line for line in temporary_inclusion_result]\n",
        "  if len(inclusion_result_string) > 1:\n",
        "    inclusion_result_string = float(inclusion_result_string[1].split(\" \")[2])\n",
        "  else:\n",
        "    inclusion_result_string = float(0)\n",
        "  exclusion_result_string = [line for line in temporary_exclusion_result]\n",
        "  if len(exclusion_result_string) > 1:\n",
        "    exclusion_result_string = float(exclusion_result_string[1].split(\" \")[2])\n",
        "  else:\n",
        "    exclusion_result_string = float(0)\n",
        "  return exclusion_result_string, inclusion_result_string, num_exc"
      ],
      "execution_count": 0,
      "outputs": [
        {
          "output_type": "stream",
          "text": [
            "min val:  -454.796458\n",
            "max val:  -46.785695\n"
          ],
          "name": "stdout"
        }
      ]
    },
    {
      "cell_type": "code",
      "metadata": {
        "id": "YxxE8d-w3auk",
        "colab_type": "code",
        "outputId": "9097e10e-a2b2-49dd-cc75-1bbabbb2f76d",
        "colab": {
          "base_uri": "https://localhost:8080/",
          "height": 1000
        }
      },
      "source": [
        "from numpy import arange\n",
        "import matplotlib.pyplot as plt\n",
        "from sklearn.metrics import auc\n",
        "\n",
        "translations = get_sentence_pairs()\n",
        "thresholds = [i for i in arange(lower_bound+1, upper_bound-1, (upper_bound-lower_bound-2)/25)]\n",
        "print(len(thresholds))\n",
        "\n",
        "inclusion_scores = []\n",
        "exclusion_scores = []\n",
        "fraction_included = []\n",
        "fraction_excluded = []\n",
        "\n",
        "for thresh in thresholds:\n",
        "  exc, inc, num_exc = compute_excluded_included_score(translations, thresh)\n",
        "  print(\"BLEU SCORES AT LM THRESHOLD VALUE: \", thresh)\n",
        "  print(\"Excluded BLEU: \", exc)\n",
        "  print(\"Included BLEU: \", inc,\"\\n\")\n",
        "  inclusion_scores.append(inc)\n",
        "  exclusion_scores.append(exc)\n",
        "  fraction_included.append((len(translations) - num_exc)/len(translations))\n",
        "  fraction_excluded.append(num_exc/len(translations))\n",
        "\n",
        "all_inclusion_scores.append(inclusion_scores)\n",
        "all_fractions_included.append(fraction_included)\n",
        "\n",
        "plt.xlabel('Fraction Above Threshold') \n",
        "plt.ylabel('BLEU score (corpus)') \n",
        "plt.title('Comparing NMTs') \n",
        "for i in range(len(all_inclusion_scores)):\n",
        "    r = random.random()\n",
        "    b = random.random()\n",
        "    g = random.random()\n",
        "    c = (r, g, b)\n",
        "    plt.plot(all_fractions_included[i], all_inclusion_scores[i], label = index_to_label[i], color=c)\n",
        "\n",
        "plt.legend(loc=\"upper right\")\n",
        "plt.show()"
      ],
      "execution_count": 0,
      "outputs": [
        {
          "output_type": "stream",
          "text": [
            "25\n",
            "BLEU SCORES AT LM THRESHOLD VALUE:  -453.796458\n",
            "Excluded BLEU:  1.53\n",
            "Included BLEU:  7.92 \n",
            "\n",
            "BLEU SCORES AT LM THRESHOLD VALUE:  -437.55602747999995\n",
            "Excluded BLEU:  0.78\n",
            "Included BLEU:  7.93 \n",
            "\n",
            "BLEU SCORES AT LM THRESHOLD VALUE:  -421.31559695999994\n",
            "Excluded BLEU:  0.64\n",
            "Included BLEU:  7.93 \n",
            "\n",
            "BLEU SCORES AT LM THRESHOLD VALUE:  -405.0751664399999\n",
            "Excluded BLEU:  1.0\n",
            "Included BLEU:  7.93 \n",
            "\n",
            "BLEU SCORES AT LM THRESHOLD VALUE:  -388.8347359199999\n",
            "Excluded BLEU:  0.88\n",
            "Included BLEU:  7.94 \n",
            "\n",
            "BLEU SCORES AT LM THRESHOLD VALUE:  -372.5943053999999\n",
            "Excluded BLEU:  0.88\n",
            "Included BLEU:  7.94 \n",
            "\n",
            "BLEU SCORES AT LM THRESHOLD VALUE:  -356.35387487999986\n",
            "Excluded BLEU:  1.05\n",
            "Included BLEU:  7.94 \n",
            "\n",
            "BLEU SCORES AT LM THRESHOLD VALUE:  -340.11344435999985\n",
            "Excluded BLEU:  4.14\n",
            "Included BLEU:  7.93 \n",
            "\n",
            "BLEU SCORES AT LM THRESHOLD VALUE:  -323.8730138399998\n",
            "Excluded BLEU:  3.96\n",
            "Included BLEU:  7.94 \n",
            "\n",
            "BLEU SCORES AT LM THRESHOLD VALUE:  -307.6325833199998\n",
            "Excluded BLEU:  4.9\n",
            "Included BLEU:  7.95 \n",
            "\n",
            "BLEU SCORES AT LM THRESHOLD VALUE:  -291.3921527999998\n",
            "Excluded BLEU:  3.98\n",
            "Included BLEU:  7.99 \n",
            "\n",
            "BLEU SCORES AT LM THRESHOLD VALUE:  -275.1517222799998\n",
            "Excluded BLEU:  5.01\n",
            "Included BLEU:  8.0 \n",
            "\n",
            "BLEU SCORES AT LM THRESHOLD VALUE:  -258.91129175999976\n",
            "Excluded BLEU:  6.95\n",
            "Included BLEU:  7.96 \n",
            "\n",
            "BLEU SCORES AT LM THRESHOLD VALUE:  -242.67086123999974\n",
            "Excluded BLEU:  6.32\n",
            "Included BLEU:  8.02 \n",
            "\n",
            "BLEU SCORES AT LM THRESHOLD VALUE:  -226.43043071999972\n",
            "Excluded BLEU:  6.21\n",
            "Included BLEU:  8.08 \n",
            "\n",
            "BLEU SCORES AT LM THRESHOLD VALUE:  -210.1900001999997\n",
            "Excluded BLEU:  6.64\n",
            "Included BLEU:  8.09 \n",
            "\n",
            "BLEU SCORES AT LM THRESHOLD VALUE:  -193.94956967999968\n",
            "Excluded BLEU:  6.81\n",
            "Included BLEU:  8.21 \n",
            "\n",
            "BLEU SCORES AT LM THRESHOLD VALUE:  -177.70913915999967\n",
            "Excluded BLEU:  6.86\n",
            "Included BLEU:  8.35 \n",
            "\n",
            "BLEU SCORES AT LM THRESHOLD VALUE:  -161.46870863999965\n",
            "Excluded BLEU:  7.36\n",
            "Included BLEU:  8.28 \n",
            "\n",
            "BLEU SCORES AT LM THRESHOLD VALUE:  -145.22827811999963\n",
            "Excluded BLEU:  7.54\n",
            "Included BLEU:  8.32 \n",
            "\n",
            "BLEU SCORES AT LM THRESHOLD VALUE:  -128.9878475999996\n",
            "Excluded BLEU:  7.46\n",
            "Included BLEU:  8.73 \n",
            "\n",
            "BLEU SCORES AT LM THRESHOLD VALUE:  -112.7474170799996\n",
            "Excluded BLEU:  7.43\n",
            "Included BLEU:  9.56 \n",
            "\n",
            "BLEU SCORES AT LM THRESHOLD VALUE:  -96.50698655999958\n",
            "Excluded BLEU:  7.58\n",
            "Included BLEU:  10.49 \n",
            "\n",
            "BLEU SCORES AT LM THRESHOLD VALUE:  -80.26655603999956\n",
            "Excluded BLEU:  7.74\n",
            "Included BLEU:  11.81 \n",
            "\n",
            "BLEU SCORES AT LM THRESHOLD VALUE:  -64.02612551999954\n",
            "Excluded BLEU:  7.87\n",
            "Included BLEU:  12.89 \n",
            "\n"
          ],
          "name": "stdout"
        },
        {
          "output_type": "display_data",
          "data": {
            "image/png": "[encoded data removed]",
            "text/plain": [
              "<Figure size 432x288 with 1 Axes>"
            ]
          },
          "metadata": {
            "tags": [],
            "needs_background": "light"
          }
        }
      ]
    }
  ]
}