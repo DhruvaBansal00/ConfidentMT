{
  "nbformat": 4,
  "nbformat_minor": 0,
  "metadata": {
    "colab": {
      "name": "driver.ipynb",
      "provenance": [],
      "collapsed_sections": [],
      "authorship_tag": "ABX9TyNJElJJy+mFepegtlCVhC0j",
      "include_colab_link": true
    },
    "kernelspec": {
      "name": "python3",
      "display_name": "Python 3"
    },
    "accelerator": "GPU"
  },
  "cells": [
    {
      "cell_type": "markdown",
      "metadata": {
        "id": "view-in-github",
        "colab_type": "text"
      },
      "source": [
        "<a href=\"https://colab.research.google.com/github/DhruvaBansal00/ConfidentMT/blob/master/driver.ipynb\" target=\"_parent\"><img src=\"https://colab.research.google.com/assets/colab-badge.svg\" alt=\"Open In Colab\"/></a>"
      ]
    },
    {
      "cell_type": "code",
      "metadata": {
        "id": "lr7Pw_tWRMKk",
        "colab_type": "code",
        "outputId": "9b0e151e-5978-41f6-cbeb-09241e5a1f28",
        "colab": {
          "base_uri": "https://localhost:8080/",
          "height": 34
        }
      },
      "source": [
        "from google.colab import drive\n",
        "drive.mount('/content/drive', force_remount=True)"
      ],
      "execution_count": 1,
      "outputs": [
        {
          "output_type": "stream",
          "text": [
            "Mounted at /content/drive\n"
          ],
          "name": "stdout"
        }
      ]
    },
    {
      "cell_type": "code",
      "metadata": {
        "id": "bCdkGr5ev6zM",
        "colab_type": "code",
        "outputId": "879d86ca-1064-4538-ca13-02a3fb450633",
        "colab": {
          "base_uri": "https://localhost:8080/",
          "height": 289
        }
      },
      "source": [
        "!ls\n",
        "%cd drive/My Drive/ConfidentMachineTranslation/flores\n",
        "!ls\n",
        "!pwd\n",
        "import sys\n",
        "sys.path.append('/content/drive/My Drive/ConfidentMachineTranslation/flores/src/')"
      ],
      "execution_count": 2,
      "outputs": [
        {
          "output_type": "stream",
          "text": [
            "drive  sample_data\n",
            "/content/drive/My Drive/ConfidentMachineTranslation/flores\n",
            "analysis\t\t\t      FeatureSubsetBinaryClassifers.ipynb\n",
            "Analysis\t\t\t      FLORES.ipynb\n",
            "backward_models\t\t\t      LanguageAnalysis.ipynb\n",
            "BoostedBinaryClassifers.ipynb\t      language_models\n",
            "checkpoints\t\t\t      LM_Thresholding.ipynb\n",
            "ClassificationDataset\t\t      NCD_Analysis.ipynb\n",
            "CompareBaselineWithClassifiers.ipynb  NNClassification.ipynb\n",
            "configs\t\t\t\t      noisychannel\n",
            "data\t\t\t\t      NoisyChannel.ipynb\n",
            "data-bin\t\t\t      Resources\n",
            "driver.ipynb\t\t\t      scripts\n",
            "Ensembles\t\t\t      src\n",
            "Ensembling\n",
            "/content/drive/My Drive/ConfidentMachineTranslation/flores\n"
          ],
          "name": "stdout"
        }
      ]
    },
    {
      "cell_type": "code",
      "metadata": {
        "id": "woDoqsuoOFS4",
        "colab_type": "code",
        "outputId": "54c9067e-a35e-4730-9c82-bd2062a53397",
        "colab": {
          "base_uri": "https://localhost:8080/",
          "height": 306
        }
      },
      "source": [
        "pip install fairseq sacrebleu sentencepiece fastBPE sacremoses"
      ],
      "execution_count": 3,
      "outputs": [
        {
          "output_type": "stream",
          "text": [
            "Requirement already satisfied: fairseq in /usr/local/lib/python3.6/dist-packages (0.9.0)\n",
            "Requirement already satisfied: sacrebleu in /usr/local/lib/python3.6/dist-packages (1.4.10)\n",
            "Requirement already satisfied: sentencepiece in /usr/local/lib/python3.6/dist-packages (0.1.91)\n",
            "Requirement already satisfied: fastBPE in /usr/local/lib/python3.6/dist-packages (0.1.0)\n",
            "Requirement already satisfied: sacremoses in /usr/local/lib/python3.6/dist-packages (0.0.43)\n",
            "Requirement already satisfied: regex in /usr/local/lib/python3.6/dist-packages (from fairseq) (2019.12.20)\n",
            "Requirement already satisfied: cython in /usr/local/lib/python3.6/dist-packages (from fairseq) (0.29.19)\n",
            "Requirement already satisfied: numpy in /usr/local/lib/python3.6/dist-packages (from fairseq) (1.18.5)\n",
            "Requirement already satisfied: torch in /usr/local/lib/python3.6/dist-packages (from fairseq) (1.5.0+cu101)\n",
            "Requirement already satisfied: cffi in /usr/local/lib/python3.6/dist-packages (from fairseq) (1.14.0)\n",
            "Requirement already satisfied: tqdm in /usr/local/lib/python3.6/dist-packages (from fairseq) (4.41.1)\n",
            "Requirement already satisfied: portalocker in /usr/local/lib/python3.6/dist-packages (from sacrebleu) (1.7.0)\n",
            "Requirement already satisfied: joblib in /usr/local/lib/python3.6/dist-packages (from sacremoses) (0.15.1)\n",
            "Requirement already satisfied: click in /usr/local/lib/python3.6/dist-packages (from sacremoses) (7.1.2)\n",
            "Requirement already satisfied: six in /usr/local/lib/python3.6/dist-packages (from sacremoses) (1.12.0)\n",
            "Requirement already satisfied: future in /usr/local/lib/python3.6/dist-packages (from torch->fairseq) (0.16.0)\n",
            "Requirement already satisfied: pycparser in /usr/local/lib/python3.6/dist-packages (from cffi->fairseq) (2.20)\n"
          ],
          "name": "stdout"
        }
      ]
    },
    {
      "cell_type": "code",
      "metadata": {
        "id": "Y74icn97X2Zy",
        "colab_type": "code",
        "colab": {}
      },
      "source": [
        "##Methods for CLI with fairseq - WIP\n",
        "\n",
        "class FairseqWrapper:\n",
        "\n",
        "    def runFairseqGenerate(self, dataFolder, sourceLang, targetLang, fwModel, beam, lenpen, dataSet, removeBpe, saveFile):\n",
        "        !fairseq-generate $dataFolder --source-lang $sourceLang --target-lang $targetLang \\\n",
        "        --path $fwModel --beam $beam --lenpen $lenpen --gen-subset $dataSet --remove-bpe=$removeBpe --sacrebleu > $saveFile\n",
        "\n",
        "    def runFairseqScore(self, translations, groundTruth, saveFile, metric):\n",
        "        !fairseq-score --sys $translations --ref $groundTruth --$metric > $saveFile\n",
        "    \n",
        "    def runFairseqPreprocess(self, srcdict, preprocCommand, bpeTranslations, dest):\n",
        "        !fairseq-preprocess --only-source --srcdict $srcdict --$preprocCommand $bpeTranslations \\\n",
        "        --destdir $dest --workers 20\n",
        "\n",
        "    def runFairseqEvalLM(self, preprocFile, lmModel, batchSize, maxTokens, dataSet, saveFile):\n",
        "        !fairseq-eval-lm $preprocFile --path $lmModel --batch-size $batchSize --max-tokens $maxTokens \\\n",
        "        --output-word-probs --sample-break-mode eos --gen-subset $dataSet > $saveFile"
      ],
      "execution_count": 0,
      "outputs": []
    },
    {
      "cell_type": "code",
      "metadata": {
        "id": "tlOqgoqostAa",
        "colab_type": "code",
        "colab": {}
      },
      "source": [
        "dataFolder = \"data-bin/wiki_ne_en_bpe5000/\"\n",
        "fwModel = \"Ensembles/April_04.pt\"\n",
        "bwModel = \"backward_models/April_17.pt\"\n",
        "lmModel = \"language_models/lm/checkpoint_best.pt\"\n",
        "sourceLang = \"ne\"\n",
        "targetLang = \"en\"\n"
      ],
      "execution_count": 0,
      "outputs": []
    },
    {
      "cell_type": "code",
      "metadata": {
        "id": "vc9enbWYwjGO",
        "colab_type": "code",
        "outputId": "ac4dafdc-ab83-4169-fa6a-eb6920245ae7",
        "colab": {
          "base_uri": "https://localhost:8080/",
          "height": 275
        }
      },
      "source": [
        "import translationUtils\n",
        "from translation import Translation\n",
        "\n",
        "trainTranslations = translationUtils.getTranslationFromDataset(\"valid\", fwModel, bwModel, lmModel, \"ne\", \"en\", FairseqWrapper(), dataFolder, False, True)\n",
        "testTranslations = translationUtils.getTranslationFromDataset(\"test\", fwModel, bwModel, lmModel, \"ne\", \"en\", FairseqWrapper(), dataFolder, False, True)"
      ],
      "execution_count": 7,
      "outputs": [
        {
          "output_type": "stream",
          "text": [
            "  0% 0/12 [00:00<?, ?it/s]/pytorch/aten/src/ATen/native/BinaryOps.cpp:66: UserWarning: Integer division of tensors using div or / is deprecated, and in a future release div will perform true division as in Python 3. Use true_divide or floor_divide (// in Python) instead.\n",
            "  0% 0/13 [00:00<?, ?it/s]/pytorch/aten/src/ATen/native/BinaryOps.cpp:66: UserWarning: Integer division of tensors using div or / is deprecated, and in a future release div will perform true division as in Python 3. Use true_divide or floor_divide (// in Python) instead.\n",
            "Namespace(align_suffix=None, alignfile=None, bpe=None, cpu=False, criterion='cross_entropy', dataset_impl='mmap', destdir='analysis/preprocessed_translations', empty_cache_freq=0, fp16=False, fp16_init_scale=128, fp16_scale_tolerance=0.0, fp16_scale_window=None, joined_dictionary=False, log_format=None, log_interval=1000, lr_scheduler='fixed', memory_efficient_fp16=False, min_loss_scale=0.0001, no_progress_bar=False, nwordssrc=-1, nwordstgt=-1, only_source=True, optimizer='nag', padding_factor=8, seed=1, source_lang=None, srcdict='language_models/lm/dict.data', target_lang=None, task='translation', tensorboard_logdir='', testpref=None, tgtdict=None, threshold_loss_scale=None, thresholdsrc=0, thresholdtgt=0, tokenizer=None, trainpref=None, user_dir=None, validpref='analysis/bpe_translations.data', workers=20)\n",
            "| [None] Dictionary: 35879 types\n",
            "| [None] analysis/bpe_translations.data: 2559 sents, 55047 tokens, 1.64% replaced by <unk>\n",
            "| Wrote preprocessed data to analysis/preprocessed_translations\n",
            "tcmalloc: large alloc 1100087296 bytes == 0x263aa000 @  0x7f7f06626b6b 0x7f7f06646379 0x7f7eb33c004e 0x7f7eb33c1f4a 0x7f7eec2af0c4 0x7f7efa4fc5d9 0x551365 0x5a9cbc 0x50a5c3 0x50bfb4 0x507d64 0x509042 0x5a4b71 0x5a4ec8 0x4e009e 0x50a5f1 0x50bfb4 0x507d64 0x588e5c 0x59fc4e 0x50d356 0x507d64 0x509a90 0x50a48d 0x50cd96 0x507d64 0x509a90 0x50a48d 0x50bfb4 0x507d64 0x509a90\n",
            "  0% 0/14 [00:00<?, ?it/s]/pytorch/aten/src/ATen/native/BinaryOps.cpp:66: UserWarning: Integer division of tensors using div or / is deprecated, and in a future release div will perform true division as in Python 3. Use true_divide or floor_divide (// in Python) instead.\n",
            "  0% 0/15 [00:00<?, ?it/s]/pytorch/aten/src/ATen/native/BinaryOps.cpp:66: UserWarning: Integer division of tensors using div or / is deprecated, and in a future release div will perform true division as in Python 3. Use true_divide or floor_divide (// in Python) instead.\n",
            "Namespace(align_suffix=None, alignfile=None, bpe=None, cpu=False, criterion='cross_entropy', dataset_impl='mmap', destdir='analysis/preprocessed_translations', empty_cache_freq=0, fp16=False, fp16_init_scale=128, fp16_scale_tolerance=0.0, fp16_scale_window=None, joined_dictionary=False, log_format=None, log_interval=1000, lr_scheduler='fixed', memory_efficient_fp16=False, min_loss_scale=0.0001, no_progress_bar=False, nwordssrc=-1, nwordstgt=-1, only_source=True, optimizer='nag', padding_factor=8, seed=1, source_lang=None, srcdict='language_models/lm/dict.data', target_lang=None, task='translation', tensorboard_logdir='', testpref='analysis/bpe_translations.data', tgtdict=None, threshold_loss_scale=None, thresholdsrc=0, thresholdtgt=0, tokenizer=None, trainpref=None, user_dir=None, validpref=None, workers=20)\n",
            "| [None] Dictionary: 35879 types\n",
            "| [None] analysis/bpe_translations.data: 2835 sents, 63099 tokens, 1.78% replaced by <unk>\n",
            "| Wrote preprocessed data to analysis/preprocessed_translations\n",
            "tcmalloc: large alloc 1100087296 bytes == 0x25e4c000 @  0x7f29fe2b0b6b 0x7f29fe2d0379 0x7f29ab04a04e 0x7f29ab04bf4a 0x7f29e3f390c4 0x7f29f21865d9 0x551365 0x5a9cbc 0x50a5c3 0x50bfb4 0x507d64 0x509042 0x5a4b71 0x5a4ec8 0x4e009e 0x50a5f1 0x50bfb4 0x507d64 0x588e5c 0x59fc4e 0x50d356 0x507d64 0x509a90 0x50a48d 0x50cd96 0x507d64 0x509a90 0x50a48d 0x50bfb4 0x507d64 0x509a90\n"
          ],
          "name": "stdout"
        }
      ]
    },
    {
      "cell_type": "code",
      "metadata": {
        "id": "B0hQXwKLrq4V",
        "colab_type": "code",
        "colab": {
          "base_uri": "https://localhost:8080/",
          "height": 340
        },
        "outputId": "3040b7f8-62d1-425f-fd7d-22c27d98651c"
      },
      "source": [
        "import dataUtils\n",
        "import classification\n",
        "\n",
        "trainTranslations = dataUtils.createObjectsFromFile(\"valid\")\n",
        "testTranslations = dataUtils.createObjectsFromFile(\"test\")\n",
        "classification.verboseTraining(trainTranslations, testTranslations, \"LogisticRegression\", FairseqWrapper(), 15, [0,11,12])"
      ],
      "execution_count": 5,
      "outputs": [
        {
          "output_type": "stream",
          "text": [
            "#################################################\n",
            "Traning Logistic Regression Classifier\n",
            "Train Accuracy\n",
            "Correctly accepted = 0.20078740157480315\n",
            "Incorrectly rejected = 0.7992125984251969\n",
            "Correctly rejected = 0.9829351535836177\n",
            "Incorrectly accepted = 0.017064846416382284\n",
            "Total Accuracy = 0.8276670574443142\n",
            "Percent acepted = 5.353653771004298\n",
            "Corpus BLEU score of accepted translations = 21.61\n",
            "Test Accuracy\n",
            "Correctly accepted = 0.1808066759388039\n",
            "Incorrectly rejected = 0.8191933240611962\n",
            "Correctly rejected = 0.972117202268431\n",
            "Incorrectly accepted = 0.027882797731568987\n",
            "Total Accuracy = 0.7714285714285715\n",
            "Percent acepted = 6.666666666666667\n",
            "Corpus BLEU score of accepted translations = 21.45\n",
            "#################################################\n"
          ],
          "name": "stdout"
        }
      ]
    }
  ]
}